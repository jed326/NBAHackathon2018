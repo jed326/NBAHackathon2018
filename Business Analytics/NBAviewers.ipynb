{
 "cells": [
  {
   "cell_type": "code",
   "execution_count": 1,
   "metadata": {
    "_cell_guid": "b1076dfc-b9ad-4769-8c92-a6c4dae69d19",
    "_uuid": "8f2839f25d086af736a60e9eeb907d3b93b6e0e5"
   },
   "outputs": [],
   "source": [
    "# This Python 3 environment comes with many helpful analytics libraries installed\n",
    "# It is defined by the kaggle/python docker image: https://github.com/kaggle/docker-python\n",
    "# For example, here's several helpful packages to load in \n",
    "\n",
    "import numpy as np # linear algebra\n",
    "import pandas as pd # data processing, CSV file I/O (e.g. pd.read_csv)\n",
    "\n",
    "# Input data files are available in the \"../input/\" directory.\n",
    "# For example, running this (by clicking run or pressing Shift+Enter) will list the files in the input directory\n",
    "pd.set_option('display.max_row', 1000)\n",
    "import os\n",
    "\n",
    "# Any results you write to the current directory are saved as output."
   ]
  },
  {
   "cell_type": "code",
   "execution_count": 56,
   "metadata": {
    "_uuid": "5cc30d666c7cd06baee9e570b2abe8ebf0a053b0"
   },
   "outputs": [],
   "source": [
    "import seaborn as sns\n",
    "import matplotlib.pyplot as plt\n",
    "%matplotlib inline\n",
    "\n",
    "from sklearn.ensemble import RandomForestRegressor"
   ]
  },
  {
   "cell_type": "code",
   "execution_count": 3,
   "metadata": {
    "_uuid": "f772b62c0bf7afceeb920c2de4e074f880ddd4dd"
   },
   "outputs": [],
   "source": [
    "game_data = pd.read_csv(\"game_data.csv\")\n",
    "player_data = pd.read_csv(\"player_data.csv\")\n",
    "training_data = pd.read_csv(\"training_set.csv\", parse_dates = ['Game_Date'])\n",
    "#test_data = pd.read_csv(\"test_set.csv\", parse_dates = ['Game_Date'])"
   ]
  },
  {
   "cell_type": "code",
   "execution_count": 6,
   "metadata": {
    "_uuid": "7ff7dc5ceacc2d8cf2fe4a2c69431b5100e0acf3"
   },
   "outputs": [
    {
     "data": {
      "text/plain": [
       "[(4920, 16), (77392, 23), (280625, 7), (460, 6)]"
      ]
     },
     "execution_count": 6,
     "metadata": {},
     "output_type": "execute_result"
    }
   ],
   "source": [
    "#note to self, add date data, w/l, all-star to training data, city populations?\n",
    "#Also add social media followings? For both players and teams\n",
    "\n",
    "[game_data.shape, player_data.shape, training_data.shape, test_data.shape]"
   ]
  },
  {
   "cell_type": "code",
   "execution_count": 4,
   "metadata": {
    "_uuid": "eb15a4941ec70c285984b5b89caaae3879ebbcbd"
   },
   "outputs": [
    {
     "name": "stderr",
     "output_type": "stream",
     "text": [
      "c:\\users\\cseuser\\appdata\\local\\programs\\python\\python36-32\\lib\\site-packages\\seaborn\\axisgrid.py:703: UserWarning: Using the pointplot function without specifying `order` is likely to produce an incorrect plot.\n",
      "  warnings.warn(warning)\n"
     ]
    },
    {
     "data": {
      "text/plain": [
       "<seaborn.axisgrid.FacetGrid at 0x5c16430>"
      ]
     },
     "execution_count": 4,
     "metadata": {},
     "output_type": "execute_result"
    },
    {
     "data": {
      "image/png": "[encoded data removed]",
      "text/plain": [
       "<matplotlib.figure.Figure at 0x13de7410>"
      ]
     },
     "metadata": {},
     "output_type": "display_data"
    }
   ],
   "source": [
    "training_data['day of week'] = training_data.Game_Date.dt.dayofweek\n",
    "g = sns.FacetGrid(training_data)\n",
    "g.map(sns.pointplot, 'day of week',  'Rounded Viewers')\n",
    "\n"
   ]
  },
  {
   "cell_type": "code",
   "execution_count": 5,
   "metadata": {
    "_uuid": "f7dfc1078e148910d47f735def254bbf301a4808"
   },
   "outputs": [
    {
     "data": {
      "text/html": [
       "<div>\n",
       "<style scoped>\n",
       "    .dataframe tbody tr th:only-of-type {\n",
       "        vertical-align: middle;\n",
       "    }\n",
       "\n",
       "    .dataframe tbody tr th {\n",
       "        vertical-align: top;\n",
       "    }\n",
       "\n",
       "    .dataframe thead th {\n",
       "        text-align: right;\n",
       "    }\n",
       "</style>\n",
       "<table border=\"1\" class=\"dataframe\">\n",
       "  <thead>\n",
       "    <tr style=\"text-align: right;\">\n",
       "      <th></th>\n",
       "      <th>Rounded Viewers</th>\n",
       "    </tr>\n",
       "    <tr>\n",
       "      <th>day of week</th>\n",
       "      <th></th>\n",
       "    </tr>\n",
       "  </thead>\n",
       "  <tbody>\n",
       "    <tr>\n",
       "      <th>0</th>\n",
       "      <td>116.475991</td>\n",
       "    </tr>\n",
       "    <tr>\n",
       "      <th>1</th>\n",
       "      <td>123.798095</td>\n",
       "    </tr>\n",
       "    <tr>\n",
       "      <th>2</th>\n",
       "      <td>106.700065</td>\n",
       "    </tr>\n",
       "    <tr>\n",
       "      <th>3</th>\n",
       "      <td>142.218299</td>\n",
       "    </tr>\n",
       "    <tr>\n",
       "      <th>4</th>\n",
       "      <td>119.721290</td>\n",
       "    </tr>\n",
       "    <tr>\n",
       "      <th>5</th>\n",
       "      <td>124.461662</td>\n",
       "    </tr>\n",
       "    <tr>\n",
       "      <th>6</th>\n",
       "      <td>126.770177</td>\n",
       "    </tr>\n",
       "  </tbody>\n",
       "</table>\n",
       "</div>"
      ],
      "text/plain": [
       "             Rounded Viewers\n",
       "day of week                 \n",
       "0                 116.475991\n",
       "1                 123.798095\n",
       "2                 106.700065\n",
       "3                 142.218299\n",
       "4                 119.721290\n",
       "5                 124.461662\n",
       "6                 126.770177"
      ]
     },
     "execution_count": 5,
     "metadata": {},
     "output_type": "execute_result"
    }
   ],
   "source": [
    "# just double checking that the graph was correct\n",
    "training_data[['day of week', 'Rounded Viewers']].groupby(['day of week']).mean()"
   ]
  },
  {
   "cell_type": "code",
   "execution_count": 9,
   "metadata": {
    "_uuid": "08eb8ac97d457dbc3690c0cf4dcff1267c916d1c"
   },
   "outputs": [
    {
     "data": {
      "text/plain": [
       "Season                         2017-18\n",
       "Game_ID                       21700001\n",
       "Game_Date          2017-10-17 00:00:00\n",
       "Away_Team                          BOS\n",
       "Home_Team                          CLE\n",
       "Country                           C176\n",
       "Rounded Viewers                  18600\n",
       "day of week                          1\n",
       "Name: 145547, dtype: object"
      ]
     },
     "execution_count": 9,
     "metadata": {},
     "output_type": "execute_result"
    }
   ],
   "source": [
    "#checking the outliers possibly, it was on a tuesday?\n",
    "\n",
    "training_data.loc[training_data['Rounded Viewers'].idxmax()]"
   ]
  },
  {
   "cell_type": "code",
   "execution_count": 6,
   "metadata": {
    "_uuid": "bed0e42748b7986a73569097af0d37a6cd7e017f"
   },
   "outputs": [],
   "source": [
    "training_data['weekend'] = np.where(training_data.Game_Date.dt.dayofweek > 3, 1, 2)"
   ]
  },
  {
   "cell_type": "code",
   "execution_count": 4,
   "metadata": {
    "_uuid": "bed0e42748b7986a73569097af0d37a6cd7e017f"
   },
   "outputs": [
    {
     "name": "stderr",
     "output_type": "stream",
     "text": [
      "c:\\users\\cseuser\\appdata\\local\\programs\\python\\python36-32\\lib\\site-packages\\seaborn\\axisgrid.py:703: UserWarning: Using the barplot function without specifying `order` is likely to produce an incorrect plot.\n",
      "  warnings.warn(warning)\n"
     ]
    },
    {
     "data": {
      "text/plain": [
       "<seaborn.axisgrid.FacetGrid at 0x6354130>"
      ]
     },
     "execution_count": 4,
     "metadata": {},
     "output_type": "execute_result"
    },
    {
     "data": {
      "image/png": "[encoded data removed]",
      "text/plain": [
       "<matplotlib.figure.Figure at 0x85c98d0>"
      ]
     },
     "metadata": {},
     "output_type": "display_data"
    }
   ],
   "source": [
    "g = sns.FacetGrid(training_data)\n",
    "g.map(sns.barplot, 'weekend',  'Rounded Viewers')"
   ]
  },
  {
   "cell_type": "code",
   "execution_count": 7,
   "metadata": {},
   "outputs": [],
   "source": [
    "training_data.set_index(\"Game_ID\", inplace = True)"
   ]
  },
  {
   "cell_type": "code",
   "execution_count": 8,
   "metadata": {},
   "outputs": [],
   "source": [
    "total_views = training_data.groupby('Game_ID')['Rounded Viewers'].sum()"
   ]
  },
  {
   "cell_type": "code",
   "execution_count": 9,
   "metadata": {},
   "outputs": [],
   "source": [
    "training_data['Total_Views'] = total_views"
   ]
  },
  {
   "cell_type": "code",
   "execution_count": 10,
   "metadata": {},
   "outputs": [],
   "source": [
    "del total_views"
   ]
  },
  {
   "cell_type": "markdown",
   "metadata": {},
   "source": [
    "# Getting rid of country/view columns\n"
   ]
  },
  {
   "cell_type": "code",
   "execution_count": 11,
   "metadata": {},
   "outputs": [],
   "source": [
    "training_data.drop(['Rounded Viewers', 'Country'], inplace = True, axis = 1)"
   ]
  },
  {
   "cell_type": "code",
   "execution_count": 12,
   "metadata": {},
   "outputs": [],
   "source": [
    "training_data.drop_duplicates(inplace = True)"
   ]
  },
  {
   "cell_type": "code",
   "execution_count": 13,
   "metadata": {},
   "outputs": [],
   "source": [
    "training_data['weekend'] = np.where(training_data.Game_Date.dt.dayofweek > 3, 1, 0)\n",
    "player_data['AllStar'] = np.where(player_data.ASG_Team != \"None\", 1, 0)"
   ]
  },
  {
   "cell_type": "code",
   "execution_count": 14,
   "metadata": {},
   "outputs": [],
   "source": [
    "player_data.set_index('Game_ID', inplace = True)"
   ]
  },
  {
   "cell_type": "code",
   "execution_count": 15,
   "metadata": {},
   "outputs": [],
   "source": [
    "allstar = player_data.groupby('Game_ID')['AllStar'].sum()\n",
    "training_data['AllStar'] = allstar"
   ]
  },
  {
   "cell_type": "code",
   "execution_count": 16,
   "metadata": {},
   "outputs": [
    {
     "name": "stderr",
     "output_type": "stream",
     "text": [
      "c:\\users\\cseuser\\appdata\\local\\programs\\python\\python36-32\\lib\\site-packages\\seaborn\\axisgrid.py:703: UserWarning: Using the barplot function without specifying `order` is likely to produce an incorrect plot.\n",
      "  warnings.warn(warning)\n"
     ]
    },
    {
     "data": {
      "text/plain": [
       "<seaborn.axisgrid.FacetGrid at 0x11889d0>"
      ]
     },
     "execution_count": 16,
     "metadata": {},
     "output_type": "execute_result"
    },
    {
     "data": {
      "image/png": "[encoded data removed]",
      "text/plain": [
       "<matplotlib.figure.Figure at 0x1188db0>"
      ]
     },
     "metadata": {},
     "output_type": "display_data"
    }
   ],
   "source": [
    "g = sns.FacetGrid(training_data)\n",
    "\n",
    "g.map(sns.barplot, 'AllStar',  'Total_Views')"
   ]
  },
  {
   "cell_type": "markdown",
   "metadata": {},
   "source": [
    "# There is a relationship between number of all stars and viewer count as seen here\n",
    "\n",
    "Now we are going to try model on top of this. First is random forest. Our test model will be just a split of 0.25"
   ]
  },
  {
   "cell_type": "code",
   "execution_count": 17,
   "metadata": {},
   "outputs": [],
   "source": [
    "from sklearn.model_selection import train_test_split"
   ]
  },
  {
   "cell_type": "code",
   "execution_count": 143,
   "metadata": {},
   "outputs": [],
   "source": [
    "def randomforest(training_data):\n",
    "    X = training_data.copy()\n",
    "    y = X['Total_Views']\n",
    "    X.drop([\"Total_Views\", \"Away_Team\", \"Home_Team\", \"Game_Date\", \"Season\"], axis = 1, inplace = True)\n",
    "    train_X, val_X, train_y, val_y = train_test_split(X, y, random_state = 0, test_size = 0.25)\n",
    "    randomforest = RandomForestRegressor(random_state = 0, n_estimators=20, min_samples_leaf= 3)\n",
    "    randomforest.fit(train_X, train_y)\n",
    "    randomforest_predictions = randomforest.predict(val_X)\n",
    "    mape = np.mean(np.abs((val_y - randomforest_predictions) / val_y)) * 100\n",
    "    print(mape)\n",
    "    del randomforest_predictions\n",
    "    del X, y"
   ]
  },
  {
   "cell_type": "code",
   "execution_count": 58,
   "metadata": {},
   "outputs": [],
   "source": [
    "from xgboost import XGBRegressor"
   ]
  },
  {
   "cell_type": "code",
   "execution_count": 144,
   "metadata": {},
   "outputs": [],
   "source": [
    "def xgboost(training_data):\n",
    "    X = training_data.copy()\n",
    "    y = X['Total_Views']\n",
    "    X.drop([\"Total_Views\", \"Away_Team\", \"Home_Team\", \"Game_Date\", \"Season\"], axis = 1, inplace = True)\n",
    "    train_X, val_X, train_y, val_y = train_test_split(X, y, random_state = 0, test_size = 0.25)\n",
    "    xgboost = XGBRegressor()\n",
    "    xgboost.fit(train_X, train_y)\n",
    "    xgboostpredict = xgboost.predict(val_X)\n",
    "    mape = np.mean(np.abs((val_y - xgboostpredict) / val_y)) * 100\n",
    "    print(mape)\n",
    "    del xgboostpredict\n",
    "    del X, y"
   ]
  },
  {
   "cell_type": "code",
   "execution_count": 23,
   "metadata": {},
   "outputs": [],
   "source": [
    "training_data['2016-17_season'] = training_data['Season'] == '2016-17'"
   ]
  },
  {
   "cell_type": "code",
   "execution_count": 25,
   "metadata": {},
   "outputs": [
    {
     "name": "stdout",
     "output_type": "stream",
     "text": [
      "80.2880153263\n"
     ]
    }
   ],
   "source": [
    "randomforest(training_data)"
   ]
  },
  {
   "cell_type": "code",
   "execution_count": 254,
   "metadata": {},
   "outputs": [
    {
     "name": "stderr",
     "output_type": "stream",
     "text": [
      "c:\\users\\cseuser\\appdata\\local\\programs\\python\\python36-32\\lib\\site-packages\\seaborn\\axisgrid.py:703: UserWarning: Using the barplot function without specifying `order` is likely to produce an incorrect plot.\n",
      "  warnings.warn(warning)\n"
     ]
    },
    {
     "data": {
      "text/plain": [
       "<seaborn.axisgrid.FacetGrid at 0x140150b0>"
      ]
     },
     "execution_count": 254,
     "metadata": {},
     "output_type": "execute_result"
    },
    {
     "data": {
      "image/png": "[encoded data removed]",
      "text/plain": [
       "<matplotlib.figure.Figure at 0x14015070>"
      ]
     },
     "metadata": {},
     "output_type": "display_data"
    }
   ],
   "source": [
    "g = sns.FacetGrid(training_data)\n",
    "g.map(sns.barplot, '2016-17_season',  'Total_Views')"
   ]
  },
  {
   "cell_type": "markdown",
   "metadata": {},
   "source": [
    "# Adding population of cities to their teams"
   ]
  },
  {
   "cell_type": "code",
   "execution_count": 27,
   "metadata": {},
   "outputs": [
    {
     "data": {
      "text/plain": [
       "Index(['Season', 'Game_ID', 'Game_Date', 'Team', 'Location',\n",
       "       'Wins_Entering_Gm', 'Losses_Entering_Gm', 'Team_Minutes', 'Final_Score',\n",
       "       'Lead_Changes', 'Ties', 'Largest_Lead', 'Full_Timeouts',\n",
       "       'Short_Timeouts', 'Qtr_4_Score', 'L2M_Score', 'Team_population'],\n",
       "      dtype='object')"
      ]
     },
     "execution_count": 27,
     "metadata": {},
     "output_type": "execute_result"
    }
   ],
   "source": [
    "\n",
    "population_of_city = {'CLE': 2055612, 'NYK': 10153634, 'POR': 2424955,'UTA': 1186187, 'GSW': 4679166, 'SAS': 2429609, 'MIA':  6066387,\n",
    "                     'ORL': 2441257, 'DAL': 7233323, 'IND': 2004230, 'BOS': 4794447, 'BKN': 10000000, 'TOR': 5928040, 'DET': 4297617,\n",
    "                     'MIL': 1572482, 'MEM': 1342842, 'NOP': 1268883, 'DEN': 2853077, 'PHI': 6070500, 'OKC': 1373211, 'PHX': 4661537, \n",
    "                     'SAC': 2296418, 'HOU': 6772470, 'LAL': 13310447, 'ATL': 5789700, 'WAS': 6131977, 'CHI': 9512999, 'LAC': 13310446,\n",
    "                     'CHA': 2474314, 'MIN': 3551036 }\n",
    "\n",
    "\n",
    "game_data['Team_population'] = game_data['Team'].map(population_of_city)\n",
    "game_data.columns"
   ]
  },
  {
   "cell_type": "code",
   "execution_count": 28,
   "metadata": {},
   "outputs": [],
   "source": [
    "training_data['Total_population'] = game_data.groupby('Game_ID')['Team_population'].sum()"
   ]
  },
  {
   "cell_type": "code",
   "execution_count": 29,
   "metadata": {},
   "outputs": [
    {
     "name": "stdout",
     "output_type": "stream",
     "text": [
      "61.2855992583\n"
     ]
    }
   ],
   "source": [
    "randomforest(training_data)\n"
   ]
  },
  {
   "cell_type": "code",
   "execution_count": 39,
   "metadata": {},
   "outputs": [],
   "source": [
    "game_data.set_index('Game_ID', inplace = True)"
   ]
  },
  {
   "cell_type": "code",
   "execution_count": 43,
   "metadata": {},
   "outputs": [],
   "source": [
    "training_data['Home_team_population']= game_data.loc[game_data['Location'] == 'H', ['Team_population']]"
   ]
  },
  {
   "cell_type": "code",
   "execution_count": 84,
   "metadata": {},
   "outputs": [
    {
     "name": "stdout",
     "output_type": "stream",
     "text": [
      "47.0821668554\n"
     ]
    }
   ],
   "source": [
    "randomforest(training_data)"
   ]
  },
  {
   "cell_type": "code",
   "execution_count": 88,
   "metadata": {},
   "outputs": [
    {
     "name": "stdout",
     "output_type": "stream",
     "text": [
      "47.8233913392\n"
     ]
    }
   ],
   "source": [
    "xgboost(training_data)"
   ]
  },
  {
   "cell_type": "code",
   "execution_count": 91,
   "metadata": {},
   "outputs": [],
   "source": [
    "from sklearn.pipeline import make_pipeline\n",
    "from sklearn.model_selection import cross_val_score"
   ]
  },
  {
   "cell_type": "code",
   "execution_count": 97,
   "metadata": {},
   "outputs": [],
   "source": [
    "def cross_val(training_data):\n",
    "    X = training_data.copy()\n",
    "    y = X['Total_Views']\n",
    "    X.drop([\"Total_Views\", \"Away_Team\", \"Home_Team\", \"Game_Date\", \"Season\"], axis = 1, inplace = True)\n",
    "    crossvalpipe = make_pipeline(RandomForestRegressor(random_state = 0, n_estimators=20, min_samples_leaf= 3))\n",
    "    crossvalpredictor = cross_val_score(crossvalpipe, X, y, scoring = 'neg_mean_absolute_error')\n",
    "    print(crossvalpredictor)"
   ]
  },
  {
   "cell_type": "code",
   "execution_count": 99,
   "metadata": {},
   "outputs": [
    {
     "name": "stdout",
     "output_type": "stream",
     "text": [
      "[-6330.32067464 -6964.30559658 -7232.02889674]\n"
     ]
    }
   ],
   "source": [
    "cross_val(training_data)"
   ]
  },
  {
   "cell_type": "markdown",
   "metadata": {},
   "source": [
    "# results are pretty bad still... Going to try using one hot encoding on the teams"
   ]
  },
  {
   "cell_type": "code",
   "execution_count": 109,
   "metadata": {},
   "outputs": [],
   "source": [
    "one_hot_predictors = pd.get_dummies(training_data)"
   ]
  },
  {
   "cell_type": "code",
   "execution_count": 178,
   "metadata": {},
   "outputs": [],
   "source": [
    "def randomforesttwo(training_data):\n",
    "    X = training_data.copy()\n",
    "    y = X['Total_Views']\n",
    "    X.drop([\"Total_Views\", \"Game_Date\", '2016-17_season'], axis = 1, inplace = True)\n",
    "    train_X, val_X, train_y, val_y = train_test_split(X, y, random_state = 0, test_size = 0.25)\n",
    "    randomforest = RandomForestRegressor(random_state = 0, n_estimators=50, min_samples_leaf=1, max_features=\"auto\")\n",
    "    randomforest.fit(train_X, train_y)\n",
    "    randomforest_predictions = randomforest.predict(val_X)\n",
    "    mape = np.mean(np.abs((val_y - randomforest_predictions) / val_y)) * 100\n",
    "    print(mape)\n",
    "    del randomforest_predictions\n",
    "    del X, y"
   ]
  },
  {
   "cell_type": "code",
   "execution_count": 179,
   "metadata": {},
   "outputs": [
    {
     "name": "stdout",
     "output_type": "stream",
     "text": [
      "38.4890135734\n"
     ]
    }
   ],
   "source": [
    "randomforesttwo(one_hot_predictors)"
   ]
  },
  {
   "cell_type": "code",
   "execution_count": 174,
   "metadata": {},
   "outputs": [],
   "source": [
    "def xgboosttwo(training_data):\n",
    "    X = training_data.copy()\n",
    "    y = X['Total_Views']\n",
    "    X.drop([\"Total_Views\", \"Game_Date\", '2016-17_season'], axis = 1, inplace = True)\n",
    "    train_X, val_X, train_y, val_y = train_test_split(X, y, random_state = 0, test_size = 0.25)\n",
    "    xgboost = XGBRegressor(n_estimators=1000, learning_rate = 0.05 )\n",
    "    xgboost.fit(train_X, train_y, early_stopping_rounds = 10, eval_set = [(val_X, val_y)], verbose = False)\n",
    "    xgboostpredict = xgboost.predict(val_X)\n",
    "    mape = np.mean(np.abs((val_y - xgboostpredict) / val_y)) * 100\n",
    "    print(mape)\n",
    "    del xgboostpredict\n",
    "    del X, y"
   ]
  },
  {
   "cell_type": "code",
   "execution_count": 175,
   "metadata": {},
   "outputs": [
    {
     "name": "stdout",
     "output_type": "stream",
     "text": [
      "38.1029165403\n"
     ]
    }
   ],
   "source": [
    "xgboosttwo(one_hot_predictors)"
   ]
  },
  {
   "cell_type": "code",
   "execution_count": 168,
   "metadata": {},
   "outputs": [
    {
     "data": {
      "text/plain": [
       "Index(['Game_Date', 'day of week', 'weekend', 'Total_Views', 'AllStar',\n",
       "       '2016-17_season', 'Total_population', 'Home_team_population',\n",
       "       'Season_2016-17', 'Season_2017-18', 'Away_Team_ATL', 'Away_Team_BKN',\n",
       "       'Away_Team_BOS', 'Away_Team_CHA', 'Away_Team_CHI', 'Away_Team_CLE',\n",
       "       'Away_Team_DAL', 'Away_Team_DEN', 'Away_Team_DET', 'Away_Team_GSW',\n",
       "       'Away_Team_HOU', 'Away_Team_IND', 'Away_Team_LAC', 'Away_Team_LAL',\n",
       "       'Away_Team_MEM', 'Away_Team_MIA', 'Away_Team_MIL', 'Away_Team_MIN',\n",
       "       'Away_Team_NOP', 'Away_Team_NYK', 'Away_Team_OKC', 'Away_Team_ORL',\n",
       "       'Away_Team_PHI', 'Away_Team_PHX', 'Away_Team_POR', 'Away_Team_SAC',\n",
       "       'Away_Team_SAS', 'Away_Team_TOR', 'Away_Team_UTA', 'Away_Team_WAS',\n",
       "       'Home_Team_ATL', 'Home_Team_BKN', 'Home_Team_BOS', 'Home_Team_CHA',\n",
       "       'Home_Team_CHI', 'Home_Team_CLE', 'Home_Team_DAL', 'Home_Team_DEN',\n",
       "       'Home_Team_DET', 'Home_Team_GSW', 'Home_Team_HOU', 'Home_Team_IND',\n",
       "       'Home_Team_LAC', 'Home_Team_LAL', 'Home_Team_MEM', 'Home_Team_MIA',\n",
       "       'Home_Team_MIL', 'Home_Team_MIN', 'Home_Team_NOP', 'Home_Team_NYK',\n",
       "       'Home_Team_OKC', 'Home_Team_ORL', 'Home_Team_PHI', 'Home_Team_PHX',\n",
       "       'Home_Team_POR', 'Home_Team_SAC', 'Home_Team_SAS', 'Home_Team_TOR',\n",
       "       'Home_Team_UTA', 'Home_Team_WAS'],\n",
       "      dtype='object')"
      ]
     },
     "execution_count": 168,
     "metadata": {},
     "output_type": "execute_result"
    }
   ],
   "source": [
    "one_hot_predictors.columns"
   ]
  },
  {
   "cell_type": "code",
   "execution_count": null,
   "metadata": {},
   "outputs": [],
   "source": []
  }
 ],
 "metadata": {
  "kernelspec": {
   "display_name": "Python 3",
   "language": "python",
   "name": "python3"
  },
  "language_info": {
   "codemirror_mode": {
    "name": "ipython",
    "version": 3
   },
   "file_extension": ".py",
   "mimetype": "text/x-python",
   "name": "python",
   "nbconvert_exporter": "python",
   "pygments_lexer": "ipython3",
   "version": "3.6.3"
  }
 },
 "nbformat": 4,
 "nbformat_minor": 1
}
