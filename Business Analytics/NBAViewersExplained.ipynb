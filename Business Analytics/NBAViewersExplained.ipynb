{
 "cells": [
  {
   "cell_type": "markdown",
   "metadata": {},
   "source": [
    "# NBA Viewer Prediction"
   ]
  },
  {
   "cell_type": "markdown",
   "metadata": {},
   "source": [
    "This is the work and thoughts while building our model to predict viewership for the NBA."
   ]
  },
  {
   "cell_type": "markdown",
   "metadata": {},
   "source": [
    "# Imports"
   ]
  },
  {
   "cell_type": "code",
   "execution_count": 2,
   "metadata": {},
   "outputs": [],
   "source": [
    "%load_ext autoreload\n",
    "%autoreload 2\n",
    "\n",
    "%matplotlib inline"
   ]
  },
  {
   "cell_type": "code",
   "execution_count": 3,
   "metadata": {},
   "outputs": [],
   "source": [
    "import numpy as np \n",
    "import pandas as pd\n",
    "import os\n",
    "\n",
    "import seaborn as sns\n",
    "import matplotlib.pyplot as plt\n",
    "%matplotlib inline\n",
    "\n",
    "from sklearn.ensemble import RandomForestRegressor\n",
    "from sklearn.model_selection import train_test_split\n",
    "from xgboost import XGBRegressor"
   ]
  },
  {
   "cell_type": "markdown",
   "metadata": {},
   "source": [
    "# Read Data"
   ]
  },
  {
   "cell_type": "code",
   "execution_count": 4,
   "metadata": {},
   "outputs": [],
   "source": [
    "game_data = pd.read_csv(\"game_data.csv\")\n",
    "player_data = pd.read_csv(\"player_data.csv\")\n",
    "training_data = pd.read_csv(\"training_set.csv\", parse_dates = ['Game_Date'])"
   ]
  },
  {
   "cell_type": "code",
   "execution_count": 5,
   "metadata": {},
   "outputs": [
    {
     "data": {
      "text/html": [
       "<div>\n",
       "<style scoped>\n",
       "    .dataframe tbody tr th:only-of-type {\n",
       "        vertical-align: middle;\n",
       "    }\n",
       "\n",
       "    .dataframe tbody tr th {\n",
       "        vertical-align: top;\n",
       "    }\n",
       "\n",
       "    .dataframe thead th {\n",
       "        text-align: right;\n",
       "    }\n",
       "</style>\n",
       "<table border=\"1\" class=\"dataframe\">\n",
       "  <thead>\n",
       "    <tr style=\"text-align: right;\">\n",
       "      <th></th>\n",
       "      <th>Season</th>\n",
       "      <th>Game_ID</th>\n",
       "      <th>Game_Date</th>\n",
       "      <th>Away_Team</th>\n",
       "      <th>Home_Team</th>\n",
       "      <th>Country</th>\n",
       "      <th>Rounded Viewers</th>\n",
       "    </tr>\n",
       "  </thead>\n",
       "  <tbody>\n",
       "    <tr>\n",
       "      <th>0</th>\n",
       "      <td>2016-17</td>\n",
       "      <td>21600001</td>\n",
       "      <td>2016-10-25</td>\n",
       "      <td>NYK</td>\n",
       "      <td>CLE</td>\n",
       "      <td>C113</td>\n",
       "      <td>18</td>\n",
       "    </tr>\n",
       "    <tr>\n",
       "      <th>1</th>\n",
       "      <td>2016-17</td>\n",
       "      <td>21600001</td>\n",
       "      <td>2016-10-25</td>\n",
       "      <td>NYK</td>\n",
       "      <td>CLE</td>\n",
       "      <td>C193</td>\n",
       "      <td>1</td>\n",
       "    </tr>\n",
       "    <tr>\n",
       "      <th>2</th>\n",
       "      <td>2016-17</td>\n",
       "      <td>21600001</td>\n",
       "      <td>2016-10-25</td>\n",
       "      <td>NYK</td>\n",
       "      <td>CLE</td>\n",
       "      <td>C126</td>\n",
       "      <td>4</td>\n",
       "    </tr>\n",
       "    <tr>\n",
       "      <th>3</th>\n",
       "      <td>2016-17</td>\n",
       "      <td>21600001</td>\n",
       "      <td>2016-10-25</td>\n",
       "      <td>NYK</td>\n",
       "      <td>CLE</td>\n",
       "      <td>C163</td>\n",
       "      <td>11</td>\n",
       "    </tr>\n",
       "    <tr>\n",
       "      <th>4</th>\n",
       "      <td>2016-17</td>\n",
       "      <td>21600001</td>\n",
       "      <td>2016-10-25</td>\n",
       "      <td>NYK</td>\n",
       "      <td>CLE</td>\n",
       "      <td>C73</td>\n",
       "      <td>3</td>\n",
       "    </tr>\n",
       "  </tbody>\n",
       "</table>\n",
       "</div>"
      ],
      "text/plain": [
       "    Season   Game_ID  Game_Date Away_Team Home_Team Country  Rounded Viewers\n",
       "0  2016-17  21600001 2016-10-25       NYK       CLE    C113               18\n",
       "1  2016-17  21600001 2016-10-25       NYK       CLE    C193                1\n",
       "2  2016-17  21600001 2016-10-25       NYK       CLE    C126                4\n",
       "3  2016-17  21600001 2016-10-25       NYK       CLE    C163               11\n",
       "4  2016-17  21600001 2016-10-25       NYK       CLE     C73                3"
      ]
     },
     "execution_count": 5,
     "metadata": {},
     "output_type": "execute_result"
    }
   ],
   "source": [
    "training_data.head()"
   ]
  },
  {
   "cell_type": "code",
   "execution_count": 6,
   "metadata": {},
   "outputs": [
    {
     "data": {
      "text/plain": [
       "Index(['Season', 'Game_ID', 'Game_Date', 'Away_Team', 'Home_Team', 'Country',\n",
       "       'Rounded Viewers'],\n",
       "      dtype='object')"
      ]
     },
     "execution_count": 6,
     "metadata": {},
     "output_type": "execute_result"
    }
   ],
   "source": [
    "training_data.columns"
   ]
  },
  {
   "cell_type": "code",
   "execution_count": 7,
   "metadata": {},
   "outputs": [
    {
     "data": {
      "text/plain": [
       "Season                     object\n",
       "Game_ID                     int64\n",
       "Game_Date          datetime64[ns]\n",
       "Away_Team                  object\n",
       "Home_Team                  object\n",
       "Country                    object\n",
       "Rounded Viewers             int64\n",
       "dtype: object"
      ]
     },
     "execution_count": 7,
     "metadata": {},
     "output_type": "execute_result"
    }
   ],
   "source": [
    "training_data.dtypes"
   ]
  },
  {
   "cell_type": "code",
   "execution_count": 8,
   "metadata": {},
   "outputs": [],
   "source": [
    "training_data.set_index(\"Game_ID\", inplace = True)"
   ]
  },
  {
   "cell_type": "markdown",
   "metadata": {},
   "source": [
    "First do some feature engineering on the dates, get the day of the week, and see average viewers on each day"
   ]
  },
  {
   "cell_type": "code",
   "execution_count": 9,
   "metadata": {},
   "outputs": [
    {
     "name": "stderr",
     "output_type": "stream",
     "text": [
      "c:\\users\\cseuser\\appdata\\local\\programs\\python\\python36-32\\lib\\site-packages\\seaborn\\axisgrid.py:703: UserWarning: Using the barplot function without specifying `order` is likely to produce an incorrect plot.\n",
      "  warnings.warn(warning)\n"
     ]
    },
    {
     "data": {
      "text/plain": [
       "<seaborn.axisgrid.FacetGrid at 0x13ed7510>"
      ]
     },
     "execution_count": 9,
     "metadata": {},
     "output_type": "execute_result"
    },
    {
     "data": {
      "image/png": "[encoded data removed]",
      "text/plain": [
       "<matplotlib.figure.Figure at 0x13ed74d0>"
      ]
     },
     "metadata": {},
     "output_type": "display_data"
    }
   ],
   "source": [
    "training_data['day of week'] = training_data.Game_Date.dt.dayofweek\n",
    "g = sns.FacetGrid(training_data)\n",
    "g.map(sns.barplot, 'day of week',  'Rounded Viewers')"
   ]
  },
  {
   "cell_type": "markdown",
   "metadata": {},
   "source": [
    "Looks like Thursday has the higehst number of viewers, something to take note of would be the possible variables that make Thursday have the highest number of viewers\n",
    "\n",
    "Next make sure our categorical variables are actually categorical"
   ]
  },
  {
   "cell_type": "code",
   "execution_count": 10,
   "metadata": {},
   "outputs": [
    {
     "data": {
      "text/plain": [
       "Season                     object\n",
       "Game_Date          datetime64[ns]\n",
       "Away_Team                  object\n",
       "Home_Team                  object\n",
       "Country                    object\n",
       "Rounded Viewers             int64\n",
       "day of week                 int64\n",
       "dtype: object"
      ]
     },
     "execution_count": 10,
     "metadata": {},
     "output_type": "execute_result"
    }
   ],
   "source": [
    "training_data.dtypes"
   ]
  },
  {
   "cell_type": "code",
   "execution_count": 11,
   "metadata": {},
   "outputs": [
    {
     "data": {
      "text/plain": [
       "Season                     object\n",
       "Game_Date          datetime64[ns]\n",
       "Away_Team                category\n",
       "Home_Team                category\n",
       "Country                    object\n",
       "Rounded Viewers             int64\n",
       "day of week                 int64\n",
       "dtype: object"
      ]
     },
     "execution_count": 11,
     "metadata": {},
     "output_type": "execute_result"
    }
   ],
   "source": [
    "training_data['Away_Team'] = training_data['Away_Team'].astype('category').cat.as_ordered()\n",
    "training_data['Home_Team'] = training_data['Home_Team'].astype('category').cat.as_ordered()\n",
    "training_data.dtypes"
   ]
  },
  {
   "cell_type": "markdown",
   "metadata": {},
   "source": [
    "Add Weekend Data"
   ]
  },
  {
   "cell_type": "code",
   "execution_count": 12,
   "metadata": {},
   "outputs": [],
   "source": [
    "training_data['weekend'] = np.where(training_data.Game_Date.dt.dayofweek > 3, 1, 0)"
   ]
  },
  {
   "cell_type": "code",
   "execution_count": 13,
   "metadata": {},
   "outputs": [
    {
     "data": {
      "text/plain": [
       "Index(['ATL', 'BKN', 'BOS', 'CHA', 'CHI', 'CLE', 'DAL', 'DEN', 'DET', 'GSW',\n",
       "       'HOU', 'IND', 'LAC', 'LAL', 'MEM', 'MIA', 'MIL', 'MIN', 'NOP', 'NYK',\n",
       "       'OKC', 'ORL', 'PHI', 'PHX', 'POR', 'SAC', 'SAS', 'TOR', 'UTA', 'WAS'],\n",
       "      dtype='object')"
      ]
     },
     "execution_count": 13,
     "metadata": {},
     "output_type": "execute_result"
    }
   ],
   "source": [
    "training_data.Away_Team.cat.categories"
   ]
  },
  {
   "cell_type": "code",
   "execution_count": 14,
   "metadata": {},
   "outputs": [],
   "source": [
    "training_data.Away_Team = training_data.Away_Team.cat.codes\n",
    "training_data.Home_Team = training_data.Home_Team.cat.codes"
   ]
  },
  {
   "cell_type": "code",
   "execution_count": 15,
   "metadata": {},
   "outputs": [],
   "source": [
    "def display_all(df):\n",
    "    with pd.option_context(\"display.max_rows\", 1000, \"display.max_columns\", 1000): \n",
    "        display(df)"
   ]
  },
  {
   "cell_type": "code",
   "execution_count": 16,
   "metadata": {},
   "outputs": [
    {
     "data": {
      "text/html": [
       "<div>\n",
       "<style scoped>\n",
       "    .dataframe tbody tr th:only-of-type {\n",
       "        vertical-align: middle;\n",
       "    }\n",
       "\n",
       "    .dataframe tbody tr th {\n",
       "        vertical-align: top;\n",
       "    }\n",
       "\n",
       "    .dataframe thead th {\n",
       "        text-align: right;\n",
       "    }\n",
       "</style>\n",
       "<table border=\"1\" class=\"dataframe\">\n",
       "  <thead>\n",
       "    <tr style=\"text-align: right;\">\n",
       "      <th></th>\n",
       "      <th>Season</th>\n",
       "      <th>Game_Date</th>\n",
       "      <th>Away_Team</th>\n",
       "      <th>Home_Team</th>\n",
       "      <th>Country</th>\n",
       "      <th>Rounded Viewers</th>\n",
       "      <th>day of week</th>\n",
       "      <th>weekend</th>\n",
       "    </tr>\n",
       "    <tr>\n",
       "      <th>Game_ID</th>\n",
       "      <th></th>\n",
       "      <th></th>\n",
       "      <th></th>\n",
       "      <th></th>\n",
       "      <th></th>\n",
       "      <th></th>\n",
       "      <th></th>\n",
       "      <th></th>\n",
       "    </tr>\n",
       "  </thead>\n",
       "  <tbody>\n",
       "    <tr>\n",
       "      <th>21600001</th>\n",
       "      <td>2016-17</td>\n",
       "      <td>2016-10-25</td>\n",
       "      <td>19</td>\n",
       "      <td>5</td>\n",
       "      <td>C113</td>\n",
       "      <td>18</td>\n",
       "      <td>1</td>\n",
       "      <td>0</td>\n",
       "    </tr>\n",
       "    <tr>\n",
       "      <th>21600001</th>\n",
       "      <td>2016-17</td>\n",
       "      <td>2016-10-25</td>\n",
       "      <td>19</td>\n",
       "      <td>5</td>\n",
       "      <td>C193</td>\n",
       "      <td>1</td>\n",
       "      <td>1</td>\n",
       "      <td>0</td>\n",
       "    </tr>\n",
       "    <tr>\n",
       "      <th>21600001</th>\n",
       "      <td>2016-17</td>\n",
       "      <td>2016-10-25</td>\n",
       "      <td>19</td>\n",
       "      <td>5</td>\n",
       "      <td>C126</td>\n",
       "      <td>4</td>\n",
       "      <td>1</td>\n",
       "      <td>0</td>\n",
       "    </tr>\n",
       "    <tr>\n",
       "      <th>21600001</th>\n",
       "      <td>2016-17</td>\n",
       "      <td>2016-10-25</td>\n",
       "      <td>19</td>\n",
       "      <td>5</td>\n",
       "      <td>C163</td>\n",
       "      <td>11</td>\n",
       "      <td>1</td>\n",
       "      <td>0</td>\n",
       "    </tr>\n",
       "    <tr>\n",
       "      <th>21600001</th>\n",
       "      <td>2016-17</td>\n",
       "      <td>2016-10-25</td>\n",
       "      <td>19</td>\n",
       "      <td>5</td>\n",
       "      <td>C73</td>\n",
       "      <td>3</td>\n",
       "      <td>1</td>\n",
       "      <td>0</td>\n",
       "    </tr>\n",
       "  </tbody>\n",
       "</table>\n",
       "</div>"
      ],
      "text/plain": [
       "           Season  Game_Date  Away_Team  Home_Team Country  Rounded Viewers  \\\n",
       "Game_ID                                                                       \n",
       "21600001  2016-17 2016-10-25         19          5    C113               18   \n",
       "21600001  2016-17 2016-10-25         19          5    C193                1   \n",
       "21600001  2016-17 2016-10-25         19          5    C126                4   \n",
       "21600001  2016-17 2016-10-25         19          5    C163               11   \n",
       "21600001  2016-17 2016-10-25         19          5     C73                3   \n",
       "\n",
       "          day of week  weekend  \n",
       "Game_ID                         \n",
       "21600001            1        0  \n",
       "21600001            1        0  \n",
       "21600001            1        0  \n",
       "21600001            1        0  \n",
       "21600001            1        0  "
      ]
     },
     "execution_count": 16,
     "metadata": {},
     "output_type": "execute_result"
    }
   ],
   "source": [
    "training_data.head()"
   ]
  },
  {
   "cell_type": "markdown",
   "metadata": {},
   "source": [
    "Lastly, we will only look at total viewers for now as it is what the test dataset is evalulated on. We may come back to look at countries later"
   ]
  },
  {
   "cell_type": "code",
   "execution_count": 17,
   "metadata": {},
   "outputs": [],
   "source": [
    "training_data['Total_Views'] = training_data.groupby(\"Game_ID\")[\"Rounded Viewers\"].sum()"
   ]
  },
  {
   "cell_type": "code",
   "execution_count": 18,
   "metadata": {},
   "outputs": [],
   "source": [
    "training_data.drop(['Rounded Viewers', 'Country'], inplace = True, axis = 1)\n",
    "training_data.drop_duplicates(inplace = True)"
   ]
  },
  {
   "cell_type": "markdown",
   "metadata": {},
   "source": [
    "Next make sure day of week and season are categorical. It shouldn't matter too much for random forests but it is good to be safe"
   ]
  },
  {
   "cell_type": "code",
   "execution_count": 19,
   "metadata": {},
   "outputs": [
    {
     "data": {
      "text/plain": [
       "Season               category\n",
       "Game_Date      datetime64[ns]\n",
       "Away_Team                int8\n",
       "Home_Team                int8\n",
       "day of week          category\n",
       "weekend                 int32\n",
       "Total_Views             int64\n",
       "dtype: object"
      ]
     },
     "execution_count": 19,
     "metadata": {},
     "output_type": "execute_result"
    }
   ],
   "source": [
    "training_data['Season'] = training_data['Season'].astype('category').cat.as_ordered()\n",
    "training_data['day of week'] = training_data['day of week'].astype('category').cat.as_ordered()\n",
    "training_data.dtypes"
   ]
  },
  {
   "cell_type": "code",
   "execution_count": 20,
   "metadata": {},
   "outputs": [],
   "source": [
    "training_data.Season = training_data.Season.cat.codes\n",
    "training_data['day of week']= training_data['day of week'].cat.codes"
   ]
  },
  {
   "cell_type": "code",
   "execution_count": 21,
   "metadata": {},
   "outputs": [
    {
     "name": "stdout",
     "output_type": "stream",
     "text": [
      "          Season  Game_Date  Away_Team  Home_Team  day of week  weekend  \\\n",
      "Game_ID                                                                   \n",
      "21600001       0 2016-10-25         19          5            1        0   \n",
      "21600003       0 2016-10-25         26          9            1        0   \n",
      "21600002       0 2016-10-25         28         24            1        0   \n",
      "21600006       0 2016-10-26          1          2            2        0   \n",
      "21600008       0 2016-10-26          3         16            2        0   \n",
      "\n",
      "          Total_Views  \n",
      "Game_ID                \n",
      "21600001        57691  \n",
      "21600003        60428  \n",
      "21600002        40740  \n",
      "21600006        23947  \n",
      "21600008        12046  \n"
     ]
    }
   ],
   "source": [
    "print(training_data.head())"
   ]
  },
  {
   "cell_type": "code",
   "execution_count": 22,
   "metadata": {},
   "outputs": [],
   "source": [
    "def mape(x, y): return np.mean(np.abs((x - y) / y)) * 100\n",
    "\n",
    "def randomforest(training_data):\n",
    "    X = training_data.copy()\n",
    "    y = X['Total_Views']\n",
    "    X.drop([\"Game_Date\", \"Total_Views\"], axis = 1, inplace = True)\n",
    "    train_X, val_X, train_y, val_y = train_test_split(X, y, random_state = 0, test_size = 0.25)\n",
    "    randomforest = RandomForestRegressor(random_state = 0,  \n",
    "                                         n_estimators=200, min_samples_leaf= 1, oob_score = True)\n",
    "    randomforest.fit(train_X, train_y)\n",
    "    res = [mape(randomforest.predict(train_X), train_y), mape(randomforest.predict(val_X), val_y), \n",
    "          randomforest.score(train_X, train_y), randomforest.score(val_X, val_y)]\n",
    "    if hasattr(randomforest, 'oob_score_'): res.append(randomforest.oob_score_)\n",
    "    print(res)\n",
    "\n",
    "    "
   ]
  },
  {
   "cell_type": "code",
   "execution_count": 24,
   "metadata": {},
   "outputs": [
    {
     "name": "stdout",
     "output_type": "stream",
     "text": [
      "[17.975636508578532, 46.839279476123991, 0.91504325895629224, 0.44232068786947332, 0.42132830451346381]\n",
      "Wall time: 873 ms\n"
     ]
    }
   ],
   "source": [
    "%time randomforest(training_data)"
   ]
  },
  {
   "cell_type": "markdown",
   "metadata": {},
   "source": [
    "With these limited columns, our data is definetly extremely overfitted. The Mape is only 18% for the training data, but 46% for the validation. The r^2 shows the same. We will add more variables to help combat this"
   ]
  },
  {
   "cell_type": "markdown",
   "metadata": {},
   "source": [
    "All-Star Data"
   ]
  },
  {
   "cell_type": "code",
   "execution_count": 25,
   "metadata": {},
   "outputs": [],
   "source": [
    "player_data['AllStar'] = np.where(player_data.ASG_Team != \"None\", 1, 0)\n",
    "player_data.set_index('Game_ID', inplace = True)\n",
    "allstar = player_data.groupby('Game_ID')['AllStar'].sum()\n",
    "training_data['AllStar'] = allstar\n",
    "del allstar"
   ]
  },
  {
   "cell_type": "code",
   "execution_count": 26,
   "metadata": {
    "scrolled": true
   },
   "outputs": [
    {
     "name": "stderr",
     "output_type": "stream",
     "text": [
      "c:\\users\\cseuser\\appdata\\local\\programs\\python\\python36-32\\lib\\site-packages\\seaborn\\axisgrid.py:703: UserWarning: Using the barplot function without specifying `order` is likely to produce an incorrect plot.\n",
      "  warnings.warn(warning)\n"
     ]
    },
    {
     "data": {
      "text/plain": [
       "<seaborn.axisgrid.FacetGrid at 0x13dcdab0>"
      ]
     },
     "execution_count": 26,
     "metadata": {},
     "output_type": "execute_result"
    },
    {
     "data": {
      "image/png": "[encoded data removed]",
      "text/plain": [
       "<matplotlib.figure.Figure at 0x13ed7890>"
      ]
     },
     "metadata": {},
     "output_type": "display_data"
    }
   ],
   "source": [
    "g = sns.FacetGrid(training_data)\n",
    "\n",
    "g.map(sns.barplot, 'AllStar',  'Total_Views')"
   ]
  },
  {
   "cell_type": "markdown",
   "metadata": {},
   "source": [
    "Clearly a decent relationship between number of all stars in a game and the total viewers"
   ]
  },
  {
   "cell_type": "code",
   "execution_count": 27,
   "metadata": {},
   "outputs": [
    {
     "name": "stdout",
     "output_type": "stream",
     "text": [
      "[16.706740503982282, 44.619336978187022, 0.92371974435928039, 0.51325910955319176, 0.48515813466993207]\n"
     ]
    }
   ],
   "source": [
    "randomforest(training_data)"
   ]
  },
  {
   "cell_type": "markdown",
   "metadata": {},
   "source": [
    "Try adding population of cities to the teams"
   ]
  },
  {
   "cell_type": "code",
   "execution_count": 28,
   "metadata": {},
   "outputs": [
    {
     "data": {
      "text/plain": [
       "Index(['Season', 'Game_ID', 'Game_Date', 'Team', 'Location',\n",
       "       'Wins_Entering_Gm', 'Losses_Entering_Gm', 'Team_Minutes', 'Final_Score',\n",
       "       'Lead_Changes', 'Ties', 'Largest_Lead', 'Full_Timeouts',\n",
       "       'Short_Timeouts', 'Qtr_4_Score', 'L2M_Score', 'Team_population'],\n",
       "      dtype='object')"
      ]
     },
     "execution_count": 28,
     "metadata": {},
     "output_type": "execute_result"
    }
   ],
   "source": [
    "population_of_city = {'CLE': 2055612, 'NYK': 10153634, 'POR': 2424955,'UTA': 1186187, 'GSW': 4679166, 'SAS': 2429609, 'MIA':  6066387,\n",
    "                     'ORL': 2441257, 'DAL': 7233323, 'IND': 2004230, 'BOS': 4794447, 'BKN': 10000000, 'TOR': 5928040, 'DET': 4297617,\n",
    "                     'MIL': 1572482, 'MEM': 1342842, 'NOP': 1268883, 'DEN': 2853077, 'PHI': 6070500, 'OKC': 1373211, 'PHX': 4661537, \n",
    "                     'SAC': 2296418, 'HOU': 6772470, 'LAL': 13310447, 'ATL': 5789700, 'WAS': 6131977, 'CHI': 9512999, 'LAC': 13310446,\n",
    "                     'CHA': 2474314, 'MIN': 3551036 }\n",
    "\n",
    "\n",
    "game_data['Team_population'] = game_data['Team'].map(population_of_city)\n",
    "game_data.columns"
   ]
  },
  {
   "cell_type": "code",
   "execution_count": 29,
   "metadata": {},
   "outputs": [],
   "source": [
    "training_data['Total_population'] = game_data.groupby('Game_ID')['Team_population'].sum()"
   ]
  },
  {
   "cell_type": "code",
   "execution_count": 30,
   "metadata": {},
   "outputs": [
    {
     "name": "stdout",
     "output_type": "stream",
     "text": [
      "[17.312376046883347, 44.358626894099622, 0.91861155705946484, 0.50932267163469902, 0.44838105153684005]\n"
     ]
    }
   ],
   "source": [
    "randomforest(training_data)"
   ]
  },
  {
   "cell_type": "markdown",
   "metadata": {},
   "source": [
    "not much of a change, may try to get rid of this later on"
   ]
  },
  {
   "cell_type": "code",
   "execution_count": 31,
   "metadata": {},
   "outputs": [],
   "source": [
    "game_data.set_index('Game_ID', inplace = True)\n",
    "training_data['Home_team_population']= game_data.loc[game_data['Location'] == 'H', ['Team_population']]"
   ]
  },
  {
   "cell_type": "code",
   "execution_count": 32,
   "metadata": {},
   "outputs": [
    {
     "name": "stdout",
     "output_type": "stream",
     "text": [
      "[17.065252221343805, 43.209059198604699, 0.91949657580865929, 0.51872133169976808, 0.45417798237447427]\n"
     ]
    }
   ],
   "source": [
    "randomforest(training_data)"
   ]
  },
  {
   "cell_type": "markdown",
   "metadata": {},
   "source": [
    "Try one hot encoding on teams instead"
   ]
  },
  {
   "cell_type": "code",
   "execution_count": 33,
   "metadata": {},
   "outputs": [],
   "source": [
    "training_data = pd.get_dummies(training_data, columns = ['Home_Team', 'Away_Team'])\n"
   ]
  },
  {
   "cell_type": "code",
   "execution_count": 34,
   "metadata": {},
   "outputs": [
    {
     "name": "stdout",
     "output_type": "stream",
     "text": [
      "[15.192791386560431, 38.373223603161549, 0.9257272720069375, 0.56207488764930502, 0.50065510915938338]\n"
     ]
    }
   ],
   "source": [
    "randomforest(training_data)"
   ]
  },
  {
   "cell_type": "code",
   "execution_count": 35,
   "metadata": {},
   "outputs": [
    {
     "name": "stdout",
     "output_type": "stream",
     "text": [
      "[14.495771075775233, 38.147355439320187, 0.92765604459197115, 0.55428455937310539, 0.51448381071901472]\n"
     ]
    }
   ],
   "source": [
    "randomforest(training_data.drop(['Total_population', 'Home_team_population'], axis = 1))"
   ]
  },
  {
   "cell_type": "markdown",
   "metadata": {},
   "source": [
    "We will drop total and home team population for now as it seems to have no effect"
   ]
  },
  {
   "cell_type": "code",
   "execution_count": 36,
   "metadata": {},
   "outputs": [],
   "source": [
    "training_data.drop(['Total_population', 'Home_team_population'], axis = 1, inplace = True)"
   ]
  },
  {
   "cell_type": "markdown",
   "metadata": {},
   "source": [
    "Adding some information about first game/first week"
   ]
  },
  {
   "cell_type": "code",
   "execution_count": 37,
   "metadata": {},
   "outputs": [],
   "source": [
    "game_data['Total_games'] = game_data[[ 'Wins_Entering_Gm', 'Losses_Entering_Gm']].sum(axis = 1)\n",
    "game_data['First_game'] = np.where(game_data['Total_games'] == 0, 1, 0)\n",
    "game_data['First_week'] = np.where(game_data['Total_games'] < 3, 1, 0)"
   ]
  },
  {
   "cell_type": "code",
   "execution_count": 38,
   "metadata": {},
   "outputs": [],
   "source": [
    "training_data['First_game'] = game_data.loc[game_data['Location'] == 'H', ['First_game']]\n",
    "training_data['First_week'] = game_data.loc[game_data['Location'] == 'H', ['First_week']]"
   ]
  },
  {
   "cell_type": "code",
   "execution_count": 39,
   "metadata": {},
   "outputs": [
    {
     "name": "stdout",
     "output_type": "stream",
     "text": [
      "[13.762692270145466, 35.295824194428896, 0.93584269949653476, 0.62074471574454892, 0.56334909826984725]\n"
     ]
    }
   ],
   "source": [
    "randomforest(training_data)"
   ]
  },
  {
   "cell_type": "code",
   "execution_count": 40,
   "metadata": {},
   "outputs": [],
   "source": [
    "training_data['Total_games_home'] = game_data.loc[game_data['Location'] == 'H', ['Total_games']]\n",
    "training_data['Total_games_away'] = game_data.loc[game_data['Location'] == 'A', ['First_game']]\n"
   ]
  },
  {
   "cell_type": "code",
   "execution_count": 41,
   "metadata": {},
   "outputs": [
    {
     "name": "stdout",
     "output_type": "stream",
     "text": [
      "[12.18755609253294, 32.505266502412567, 0.95133479321141157, 0.6514626457521846, 0.64237138850047848]\n"
     ]
    }
   ],
   "source": [
    "randomforest(training_data)"
   ]
  },
  {
   "cell_type": "code",
   "execution_count": 42,
   "metadata": {},
   "outputs": [
    {
     "data": {
      "text/plain": [
       "<matplotlib.axes._subplots.AxesSubplot at 0x5f94f0>"
      ]
     },
     "execution_count": 42,
     "metadata": {},
     "output_type": "execute_result"
    },
    {
     "data": {
      "image/png": "[encoded data removed]",
      "text/plain": [
       "<matplotlib.figure.Figure at 0x5f90d0>"
      ]
     },
     "metadata": {},
     "output_type": "display_data"
    }
   ],
   "source": [
    "game_data['last_5_games'] = np.where(game_data['Total_games'] > 76, 1, 0)\n",
    "training_data['last_5_games'] = game_data.loc[game_data['Location'] == 'H', ['last_5_games']]\n",
    "sns.barplot(x = 'last_5_games', y = 'Total_Views', data = training_data)"
   ]
  },
  {
   "cell_type": "code",
   "execution_count": 43,
   "metadata": {},
   "outputs": [
    {
     "name": "stdout",
     "output_type": "stream",
     "text": [
      "[12.229372069258993, 32.63285331241714, 0.95112491842828673, 0.65261278822362623, 0.64081380236200791]\n"
     ]
    }
   ],
   "source": [
    "randomforest(training_data)"
   ]
  },
  {
   "cell_type": "code",
   "execution_count": 44,
   "metadata": {},
   "outputs": [],
   "source": [
    "training_data.drop('last_5_games', axis = 1, inplace = True)"
   ]
  },
  {
   "cell_type": "markdown",
   "metadata": {},
   "source": [
    "Adding past ranking in conference"
   ]
  },
  {
   "cell_type": "code",
   "execution_count": 45,
   "metadata": {},
   "outputs": [
    {
     "data": {
      "text/plain": [
       "Index(['Season', 'Game_Date', 'Team', 'Location', 'Wins_Entering_Gm',\n",
       "       'Losses_Entering_Gm', 'Team_Minutes', 'Final_Score', 'Lead_Changes',\n",
       "       'Ties', 'Largest_Lead', 'Full_Timeouts', 'Short_Timeouts',\n",
       "       'Qtr_4_Score', 'L2M_Score', 'Team_population', 'Total_games',\n",
       "       'First_game', 'First_week', 'last_5_games', 'ranking'],\n",
       "      dtype='object')"
      ]
     },
     "execution_count": 45,
     "metadata": {},
     "output_type": "execute_result"
    }
   ],
   "source": [
    "rankinginconference = {'CLE': 1, 'NYK': 3, 'POR': 3,'UTA': 1, 'GSW': 1, 'SAS': 3, 'MIA': 3,\n",
    "                     'ORL': 5, 'DAL': 5, 'IND': 3, 'BOS': 1, 'BKN': 5 , 'TOR': 2, 'DET': 5,\n",
    "                     'MIL': 2, 'MEM': 3, 'NOP': 4, 'DEN': 4, 'PHI': 4, 'OKC': 2, 'PHX': 5, \n",
    "                     'SAC': 3, 'HOU': 2, 'LAL': 4, 'ATL': 2, 'WAS': 1, 'CHI': 4, 'LAC': 4,\n",
    "                     'CHA': 4, 'MIN': 5 }\n",
    "\n",
    "\n",
    "game_data['ranking'] = game_data['Team'].map(rankinginconference)\n",
    "game_data.columns"
   ]
  },
  {
   "cell_type": "code",
   "execution_count": 46,
   "metadata": {},
   "outputs": [],
   "source": [
    "training_data['home_ranking'] = game_data.loc[game_data['Location'] == 'H', ['ranking']]\n",
    "training_data['away_ranking'] = game_data.loc[game_data['Location'] == 'A', ['ranking']]"
   ]
  },
  {
   "cell_type": "code",
   "execution_count": 47,
   "metadata": {},
   "outputs": [
    {
     "name": "stdout",
     "output_type": "stream",
     "text": [
      "[12.29494706116512, 32.660521642768842, 0.95307637447183735, 0.65705473467423192, 0.65422520461039124]\n"
     ]
    }
   ],
   "source": [
    "randomforest(training_data)"
   ]
  },
  {
   "cell_type": "code",
   "execution_count": 48,
   "metadata": {},
   "outputs": [],
   "source": [
    "def xgboost(training_data):\n",
    "    X = training_data.copy()\n",
    "    y = X['Total_Views']\n",
    "    X.drop([\"Game_Date\", \"Total_Views\"], axis = 1, inplace = True)\n",
    "    train_X, val_X, train_y, val_y = train_test_split(X, y, random_state = 0, test_size = 0.25)\n",
    "    xgb = XGBRegressor(n_estimators=500)\n",
    "    xgb.fit(train_X, train_y)\n",
    "    res = [mape(xgb.predict(train_X), train_y), mape(xgb.predict(val_X), val_y), \n",
    "          xgb.score(train_X, train_y), xgb.score(val_X, val_y)]\n",
    "    if hasattr(xgb, 'oob_score_'): res.append(xgb.oob_score_)\n",
    "    print(res)"
   ]
  },
  {
   "cell_type": "code",
   "execution_count": 49,
   "metadata": {},
   "outputs": [
    {
     "name": "stdout",
     "output_type": "stream",
     "text": [
      "[19.65983529313355, 29.485117697738982, 0.91267101993455202, 0.7377015933095834]\n"
     ]
    }
   ],
   "source": [
    "xgboost(training_data)"
   ]
  },
  {
   "cell_type": "code",
   "execution_count": 50,
   "metadata": {},
   "outputs": [
    {
     "data": {
      "text/plain": [
       "RandomForestRegressor(bootstrap=True, criterion='mse', max_depth=None,\n",
       "           max_features='auto', max_leaf_nodes=None,\n",
       "           min_impurity_decrease=0.0, min_impurity_split=None,\n",
       "           min_samples_leaf=1, min_samples_split=2,\n",
       "           min_weight_fraction_leaf=0.0, n_estimators=200, n_jobs=1,\n",
       "           oob_score=True, random_state=0, verbose=0, warm_start=False)"
      ]
     },
     "execution_count": 50,
     "metadata": {},
     "output_type": "execute_result"
    }
   ],
   "source": [
    "X = training_data.copy()\n",
    "y = X['Total_Views']\n",
    "X.drop([\"Game_Date\", \"Total_Views\"], axis = 1, inplace = True)\n",
    "train_X, val_X, train_y, val_y = train_test_split(X, y, random_state = 0, test_size = 0.25)\n",
    "rf = RandomForestRegressor(random_state = 0,  \n",
    "                                         n_estimators=200, min_samples_leaf= 1, oob_score = True)\n",
    "rf.fit(train_X, train_y)"
   ]
  },
  {
   "cell_type": "code",
   "execution_count": 51,
   "metadata": {},
   "outputs": [],
   "source": [
    "def print_score(m):\n",
    "    res = [mape(m.predict(train_X), train_y), mape(m.predict(val_X), val_y), \n",
    "          m.score(train_X, train_y), m.score(val_X, val_y)]\n",
    "    if hasattr(m, 'oob_score_'): res.append(m.oob_score_)\n",
    "    print(res)"
   ]
  },
  {
   "cell_type": "code",
   "execution_count": 52,
   "metadata": {},
   "outputs": [
    {
     "name": "stdout",
     "output_type": "stream",
     "text": [
      "[12.29494706116512, 32.660521642768842, 0.95307637447183735, 0.65705473467423192, 0.65422520461039124]\n"
     ]
    }
   ],
   "source": [
    "print_score(rf)"
   ]
  },
  {
   "cell_type": "code",
   "execution_count": 56,
   "metadata": {},
   "outputs": [],
   "source": [
    "importances = rf.feature_importances_\n",
    "std = np.std([tree.feature_importances_ for tree in rf.estimators_],\n",
    "             axis=0)\n",
    "indices = np.argsort(importances)[::-1]"
   ]
  },
  {
   "cell_type": "code",
   "execution_count": 57,
   "metadata": {},
   "outputs": [],
   "source": [
    "def rf_feat_importance(m, df):\n",
    "    return pd.DataFrame({'cols':df.columns, 'imp':m.feature_importances_}\n",
    "                    ).sort_values('imp', ascending=False)"
   ]
  },
  {
   "cell_type": "code",
   "execution_count": 58,
   "metadata": {},
   "outputs": [],
   "source": [
    "fi = rf_feat_importance(rf, train_X)"
   ]
  },
  {
   "cell_type": "code",
   "execution_count": 59,
   "metadata": {},
   "outputs": [
    {
     "data": {
      "text/html": [
       "<div>\n",
       "<style scoped>\n",
       "    .dataframe tbody tr th:only-of-type {\n",
       "        vertical-align: middle;\n",
       "    }\n",
       "\n",
       "    .dataframe tbody tr th {\n",
       "        vertical-align: top;\n",
       "    }\n",
       "\n",
       "    .dataframe thead th {\n",
       "        text-align: right;\n",
       "    }\n",
       "</style>\n",
       "<table border=\"1\" class=\"dataframe\">\n",
       "  <thead>\n",
       "    <tr style=\"text-align: right;\">\n",
       "      <th></th>\n",
       "      <th>cols</th>\n",
       "      <th>imp</th>\n",
       "    </tr>\n",
       "  </thead>\n",
       "  <tbody>\n",
       "    <tr>\n",
       "      <th>3</th>\n",
       "      <td>AllStar</td>\n",
       "      <td>0.353684</td>\n",
       "    </tr>\n",
       "    <tr>\n",
       "      <th>66</th>\n",
       "      <td>Total_games_home</td>\n",
       "      <td>0.164935</td>\n",
       "    </tr>\n",
       "    <tr>\n",
       "      <th>39</th>\n",
       "      <td>Away_Team_5</td>\n",
       "      <td>0.051938</td>\n",
       "    </tr>\n",
       "    <tr>\n",
       "      <th>9</th>\n",
       "      <td>Home_Team_5</td>\n",
       "      <td>0.035051</td>\n",
       "    </tr>\n",
       "    <tr>\n",
       "      <th>1</th>\n",
       "      <td>day of week</td>\n",
       "      <td>0.033678</td>\n",
       "    </tr>\n",
       "    <tr>\n",
       "      <th>69</th>\n",
       "      <td>away_ranking</td>\n",
       "      <td>0.024977</td>\n",
       "    </tr>\n",
       "    <tr>\n",
       "      <th>68</th>\n",
       "      <td>home_ranking</td>\n",
       "      <td>0.023142</td>\n",
       "    </tr>\n",
       "    <tr>\n",
       "      <th>24</th>\n",
       "      <td>Home_Team_20</td>\n",
       "      <td>0.021124</td>\n",
       "    </tr>\n",
       "    <tr>\n",
       "      <th>17</th>\n",
       "      <td>Home_Team_13</td>\n",
       "      <td>0.020642</td>\n",
       "    </tr>\n",
       "    <tr>\n",
       "      <th>0</th>\n",
       "      <td>Season</td>\n",
       "      <td>0.018890</td>\n",
       "    </tr>\n",
       "  </tbody>\n",
       "</table>\n",
       "</div>"
      ],
      "text/plain": [
       "                cols       imp\n",
       "3            AllStar  0.353684\n",
       "66  Total_games_home  0.164935\n",
       "39       Away_Team_5  0.051938\n",
       "9        Home_Team_5  0.035051\n",
       "1        day of week  0.033678\n",
       "69      away_ranking  0.024977\n",
       "68      home_ranking  0.023142\n",
       "24      Home_Team_20  0.021124\n",
       "17      Home_Team_13  0.020642\n",
       "0             Season  0.018890"
      ]
     },
     "execution_count": 59,
     "metadata": {},
     "output_type": "execute_result"
    }
   ],
   "source": [
    "fi[:10]"
   ]
  },
  {
   "cell_type": "markdown",
   "metadata": {},
   "source": [
    "According to this... All Stars is a pretty big factor in viewers. We should probably be looking at players instead of teams/dayofweek info. "
   ]
  },
  {
   "cell_type": "code",
   "execution_count": 60,
   "metadata": {},
   "outputs": [
    {
     "data": {
      "text/html": [
       "<div>\n",
       "<style scoped>\n",
       "    .dataframe tbody tr th:only-of-type {\n",
       "        vertical-align: middle;\n",
       "    }\n",
       "\n",
       "    .dataframe tbody tr th {\n",
       "        vertical-align: top;\n",
       "    }\n",
       "\n",
       "    .dataframe thead th {\n",
       "        text-align: right;\n",
       "    }\n",
       "</style>\n",
       "<table border=\"1\" class=\"dataframe\">\n",
       "  <thead>\n",
       "    <tr style=\"text-align: right;\">\n",
       "      <th></th>\n",
       "      <th>Season</th>\n",
       "      <th>Game_Date</th>\n",
       "      <th>Team</th>\n",
       "      <th>Person_ID</th>\n",
       "      <th>Name</th>\n",
       "      <th>ASG_Team</th>\n",
       "      <th>Active_Status</th>\n",
       "      <th>Minutes</th>\n",
       "      <th>Points</th>\n",
       "      <th>Defensive_Rebounds</th>\n",
       "      <th>...</th>\n",
       "      <th>Blocks</th>\n",
       "      <th>Turnovers</th>\n",
       "      <th>Field_Goals</th>\n",
       "      <th>Field_Goals_Attempted</th>\n",
       "      <th>Three_Pointers</th>\n",
       "      <th>Three_Pointers_Attempted</th>\n",
       "      <th>Free_Throws</th>\n",
       "      <th>Free_Throws_Attempted</th>\n",
       "      <th>Personal_Fouls</th>\n",
       "      <th>AllStar</th>\n",
       "    </tr>\n",
       "    <tr>\n",
       "      <th>Game_ID</th>\n",
       "      <th></th>\n",
       "      <th></th>\n",
       "      <th></th>\n",
       "      <th></th>\n",
       "      <th></th>\n",
       "      <th></th>\n",
       "      <th></th>\n",
       "      <th></th>\n",
       "      <th></th>\n",
       "      <th></th>\n",
       "      <th></th>\n",
       "      <th></th>\n",
       "      <th></th>\n",
       "      <th></th>\n",
       "      <th></th>\n",
       "      <th></th>\n",
       "      <th></th>\n",
       "      <th></th>\n",
       "      <th></th>\n",
       "      <th></th>\n",
       "      <th></th>\n",
       "    </tr>\n",
       "  </thead>\n",
       "  <tbody>\n",
       "    <tr>\n",
       "      <th>21600001</th>\n",
       "      <td>2016-17</td>\n",
       "      <td>10/25/2016</td>\n",
       "      <td>CLE</td>\n",
       "      <td>101112</td>\n",
       "      <td>Channing Frye</td>\n",
       "      <td>None</td>\n",
       "      <td>Active</td>\n",
       "      <td>14.0</td>\n",
       "      <td>6.0</td>\n",
       "      <td>2.0</td>\n",
       "      <td>...</td>\n",
       "      <td>1.0</td>\n",
       "      <td>1.0</td>\n",
       "      <td>2.0</td>\n",
       "      <td>6.0</td>\n",
       "      <td>2.0</td>\n",
       "      <td>5.0</td>\n",
       "      <td>0.0</td>\n",
       "      <td>0.0</td>\n",
       "      <td>4.0</td>\n",
       "      <td>0</td>\n",
       "    </tr>\n",
       "    <tr>\n",
       "      <th>21600001</th>\n",
       "      <td>2016-17</td>\n",
       "      <td>10/25/2016</td>\n",
       "      <td>CLE</td>\n",
       "      <td>201567</td>\n",
       "      <td>Kevin Love</td>\n",
       "      <td>East ASG</td>\n",
       "      <td>Active</td>\n",
       "      <td>25.0</td>\n",
       "      <td>23.0</td>\n",
       "      <td>10.0</td>\n",
       "      <td>...</td>\n",
       "      <td>0.0</td>\n",
       "      <td>2.0</td>\n",
       "      <td>6.0</td>\n",
       "      <td>15.0</td>\n",
       "      <td>2.0</td>\n",
       "      <td>6.0</td>\n",
       "      <td>9.0</td>\n",
       "      <td>12.0</td>\n",
       "      <td>3.0</td>\n",
       "      <td>1</td>\n",
       "    </tr>\n",
       "    <tr>\n",
       "      <th>21600001</th>\n",
       "      <td>2016-17</td>\n",
       "      <td>10/25/2016</td>\n",
       "      <td>CLE</td>\n",
       "      <td>202681</td>\n",
       "      <td>Kyrie Irving</td>\n",
       "      <td>East ASG</td>\n",
       "      <td>Active</td>\n",
       "      <td>30.0</td>\n",
       "      <td>29.0</td>\n",
       "      <td>1.0</td>\n",
       "      <td>...</td>\n",
       "      <td>0.0</td>\n",
       "      <td>0.0</td>\n",
       "      <td>12.0</td>\n",
       "      <td>22.0</td>\n",
       "      <td>4.0</td>\n",
       "      <td>7.0</td>\n",
       "      <td>1.0</td>\n",
       "      <td>1.0</td>\n",
       "      <td>1.0</td>\n",
       "      <td>1</td>\n",
       "    </tr>\n",
       "    <tr>\n",
       "      <th>21600001</th>\n",
       "      <td>2016-17</td>\n",
       "      <td>10/25/2016</td>\n",
       "      <td>CLE</td>\n",
       "      <td>202684</td>\n",
       "      <td>Tristan Thompson</td>\n",
       "      <td>None</td>\n",
       "      <td>Active</td>\n",
       "      <td>22.0</td>\n",
       "      <td>0.0</td>\n",
       "      <td>4.0</td>\n",
       "      <td>...</td>\n",
       "      <td>0.0</td>\n",
       "      <td>2.0</td>\n",
       "      <td>0.0</td>\n",
       "      <td>1.0</td>\n",
       "      <td>0.0</td>\n",
       "      <td>0.0</td>\n",
       "      <td>0.0</td>\n",
       "      <td>0.0</td>\n",
       "      <td>4.0</td>\n",
       "      <td>0</td>\n",
       "    </tr>\n",
       "    <tr>\n",
       "      <th>21600001</th>\n",
       "      <td>2016-17</td>\n",
       "      <td>10/25/2016</td>\n",
       "      <td>CLE</td>\n",
       "      <td>202697</td>\n",
       "      <td>Iman Shumpert</td>\n",
       "      <td>None</td>\n",
       "      <td>Active</td>\n",
       "      <td>14.0</td>\n",
       "      <td>2.0</td>\n",
       "      <td>1.0</td>\n",
       "      <td>...</td>\n",
       "      <td>1.0</td>\n",
       "      <td>2.0</td>\n",
       "      <td>1.0</td>\n",
       "      <td>3.0</td>\n",
       "      <td>0.0</td>\n",
       "      <td>1.0</td>\n",
       "      <td>0.0</td>\n",
       "      <td>0.0</td>\n",
       "      <td>2.0</td>\n",
       "      <td>0</td>\n",
       "    </tr>\n",
       "  </tbody>\n",
       "</table>\n",
       "<p>5 rows × 23 columns</p>\n",
       "</div>"
      ],
      "text/plain": [
       "           Season   Game_Date Team  Person_ID              Name  ASG_Team  \\\n",
       "Game_ID                                                                     \n",
       "21600001  2016-17  10/25/2016  CLE     101112     Channing Frye      None   \n",
       "21600001  2016-17  10/25/2016  CLE     201567        Kevin Love  East ASG   \n",
       "21600001  2016-17  10/25/2016  CLE     202681      Kyrie Irving  East ASG   \n",
       "21600001  2016-17  10/25/2016  CLE     202684  Tristan Thompson      None   \n",
       "21600001  2016-17  10/25/2016  CLE     202697     Iman Shumpert      None   \n",
       "\n",
       "         Active_Status  Minutes  Points  Defensive_Rebounds   ...     Blocks  \\\n",
       "Game_ID                                                       ...              \n",
       "21600001        Active     14.0     6.0                 2.0   ...        1.0   \n",
       "21600001        Active     25.0    23.0                10.0   ...        0.0   \n",
       "21600001        Active     30.0    29.0                 1.0   ...        0.0   \n",
       "21600001        Active     22.0     0.0                 4.0   ...        0.0   \n",
       "21600001        Active     14.0     2.0                 1.0   ...        1.0   \n",
       "\n",
       "          Turnovers  Field_Goals  Field_Goals_Attempted  Three_Pointers  \\\n",
       "Game_ID                                                                   \n",
       "21600001        1.0          2.0                    6.0             2.0   \n",
       "21600001        2.0          6.0                   15.0             2.0   \n",
       "21600001        0.0         12.0                   22.0             4.0   \n",
       "21600001        2.0          0.0                    1.0             0.0   \n",
       "21600001        2.0          1.0                    3.0             0.0   \n",
       "\n",
       "          Three_Pointers_Attempted  Free_Throws  Free_Throws_Attempted  \\\n",
       "Game_ID                                                                  \n",
       "21600001                       5.0          0.0                    0.0   \n",
       "21600001                       6.0          9.0                   12.0   \n",
       "21600001                       7.0          1.0                    1.0   \n",
       "21600001                       0.0          0.0                    0.0   \n",
       "21600001                       1.0          0.0                    0.0   \n",
       "\n",
       "          Personal_Fouls  AllStar  \n",
       "Game_ID                            \n",
       "21600001             4.0        0  \n",
       "21600001             3.0        1  \n",
       "21600001             1.0        1  \n",
       "21600001             4.0        0  \n",
       "21600001             2.0        0  \n",
       "\n",
       "[5 rows x 23 columns]"
      ]
     },
     "execution_count": 60,
     "metadata": {},
     "output_type": "execute_result"
    }
   ],
   "source": [
    "player_data.head()"
   ]
  },
  {
   "cell_type": "code",
   "execution_count": 61,
   "metadata": {},
   "outputs": [
    {
     "data": {
      "text/html": [
       "<div>\n",
       "<style scoped>\n",
       "    .dataframe tbody tr th:only-of-type {\n",
       "        vertical-align: middle;\n",
       "    }\n",
       "\n",
       "    .dataframe tbody tr th {\n",
       "        vertical-align: top;\n",
       "    }\n",
       "\n",
       "    .dataframe thead th {\n",
       "        text-align: right;\n",
       "    }\n",
       "</style>\n",
       "<table border=\"1\" class=\"dataframe\">\n",
       "  <thead>\n",
       "    <tr style=\"text-align: right;\">\n",
       "      <th></th>\n",
       "      <th>cols</th>\n",
       "      <th>imp</th>\n",
       "    </tr>\n",
       "  </thead>\n",
       "  <tbody>\n",
       "    <tr>\n",
       "      <th>3</th>\n",
       "      <td>AllStar</td>\n",
       "      <td>0.353684</td>\n",
       "    </tr>\n",
       "    <tr>\n",
       "      <th>66</th>\n",
       "      <td>Total_games_home</td>\n",
       "      <td>0.164935</td>\n",
       "    </tr>\n",
       "    <tr>\n",
       "      <th>39</th>\n",
       "      <td>Away_Team_5</td>\n",
       "      <td>0.051938</td>\n",
       "    </tr>\n",
       "    <tr>\n",
       "      <th>9</th>\n",
       "      <td>Home_Team_5</td>\n",
       "      <td>0.035051</td>\n",
       "    </tr>\n",
       "    <tr>\n",
       "      <th>1</th>\n",
       "      <td>day of week</td>\n",
       "      <td>0.033678</td>\n",
       "    </tr>\n",
       "    <tr>\n",
       "      <th>69</th>\n",
       "      <td>away_ranking</td>\n",
       "      <td>0.024977</td>\n",
       "    </tr>\n",
       "    <tr>\n",
       "      <th>68</th>\n",
       "      <td>home_ranking</td>\n",
       "      <td>0.023142</td>\n",
       "    </tr>\n",
       "    <tr>\n",
       "      <th>24</th>\n",
       "      <td>Home_Team_20</td>\n",
       "      <td>0.021124</td>\n",
       "    </tr>\n",
       "    <tr>\n",
       "      <th>17</th>\n",
       "      <td>Home_Team_13</td>\n",
       "      <td>0.020642</td>\n",
       "    </tr>\n",
       "    <tr>\n",
       "      <th>0</th>\n",
       "      <td>Season</td>\n",
       "      <td>0.018890</td>\n",
       "    </tr>\n",
       "    <tr>\n",
       "      <th>47</th>\n",
       "      <td>Away_Team_13</td>\n",
       "      <td>0.018442</td>\n",
       "    </tr>\n",
       "    <tr>\n",
       "      <th>54</th>\n",
       "      <td>Away_Team_20</td>\n",
       "      <td>0.016603</td>\n",
       "    </tr>\n",
       "    <tr>\n",
       "      <th>36</th>\n",
       "      <td>Away_Team_2</td>\n",
       "      <td>0.015106</td>\n",
       "    </tr>\n",
       "    <tr>\n",
       "      <th>26</th>\n",
       "      <td>Home_Team_22</td>\n",
       "      <td>0.014433</td>\n",
       "    </tr>\n",
       "    <tr>\n",
       "      <th>44</th>\n",
       "      <td>Away_Team_10</td>\n",
       "      <td>0.013435</td>\n",
       "    </tr>\n",
       "    <tr>\n",
       "      <th>6</th>\n",
       "      <td>Home_Team_2</td>\n",
       "      <td>0.011149</td>\n",
       "    </tr>\n",
       "    <tr>\n",
       "      <th>60</th>\n",
       "      <td>Away_Team_26</td>\n",
       "      <td>0.010732</td>\n",
       "    </tr>\n",
       "    <tr>\n",
       "      <th>65</th>\n",
       "      <td>First_week</td>\n",
       "      <td>0.008480</td>\n",
       "    </tr>\n",
       "    <tr>\n",
       "      <th>30</th>\n",
       "      <td>Home_Team_26</td>\n",
       "      <td>0.008386</td>\n",
       "    </tr>\n",
       "    <tr>\n",
       "      <th>14</th>\n",
       "      <td>Home_Team_10</td>\n",
       "      <td>0.006563</td>\n",
       "    </tr>\n",
       "  </tbody>\n",
       "</table>\n",
       "</div>"
      ],
      "text/plain": [
       "                cols       imp\n",
       "3            AllStar  0.353684\n",
       "66  Total_games_home  0.164935\n",
       "39       Away_Team_5  0.051938\n",
       "9        Home_Team_5  0.035051\n",
       "1        day of week  0.033678\n",
       "69      away_ranking  0.024977\n",
       "68      home_ranking  0.023142\n",
       "24      Home_Team_20  0.021124\n",
       "17      Home_Team_13  0.020642\n",
       "0             Season  0.018890\n",
       "47      Away_Team_13  0.018442\n",
       "54      Away_Team_20  0.016603\n",
       "36       Away_Team_2  0.015106\n",
       "26      Home_Team_22  0.014433\n",
       "44      Away_Team_10  0.013435\n",
       "6        Home_Team_2  0.011149\n",
       "60      Away_Team_26  0.010732\n",
       "65        First_week  0.008480\n",
       "30      Home_Team_26  0.008386\n",
       "14      Home_Team_10  0.006563"
      ]
     },
     "execution_count": 61,
     "metadata": {},
     "output_type": "execute_result"
    }
   ],
   "source": [
    "fi [:20]"
   ]
  },
  {
   "cell_type": "code",
   "execution_count": 62,
   "metadata": {},
   "outputs": [
    {
     "data": {
      "image/png": "[encoded data removed]",
      "text/plain": [
       "<matplotlib.figure.Figure at 0xa6f850>"
      ]
     },
     "metadata": {},
     "output_type": "display_data"
    }
   ],
   "source": [
    "def plot_fi(fi): return fi.plot('cols', 'imp', 'barh', figsize=(12,7), legend=False)\n",
    "plot_fi(fi[:40]);"
   ]
  },
  {
   "cell_type": "code",
   "execution_count": 63,
   "metadata": {},
   "outputs": [
    {
     "name": "stdout",
     "output_type": "stream",
     "text": [
      "[12.247932942377444, 32.680791367531924, 0.95316711732869952, 0.65734292887894052, 0.65544404095848274]\n"
     ]
    }
   ],
   "source": [
    "rf = RandomForestRegressor(random_state = 0, \n",
    "                                         n_estimators=300, min_samples_leaf= 1, oob_score = True)\n",
    "rf.fit(train_X, train_y)\n",
    "print_score(rf)"
   ]
  },
  {
   "cell_type": "code",
   "execution_count": 64,
   "metadata": {},
   "outputs": [
    {
     "data": {
      "text/plain": [
       "3              AllStar\n",
       "66    Total_games_home\n",
       "39         Away_Team_5\n",
       "9          Home_Team_5\n",
       "1          day of week\n",
       "69        away_ranking\n",
       "68        home_ranking\n",
       "24        Home_Team_20\n",
       "17        Home_Team_13\n",
       "0               Season\n",
       "47        Away_Team_13\n",
       "54        Away_Team_20\n",
       "36         Away_Team_2\n",
       "26        Home_Team_22\n",
       "44        Away_Team_10\n",
       "6          Home_Team_2\n",
       "60        Away_Team_26\n",
       "65          First_week\n",
       "30        Home_Team_26\n",
       "14        Home_Team_10\n",
       "56        Away_Team_22\n",
       "2              weekend\n",
       "23        Home_Team_19\n",
       "53        Away_Team_19\n",
       "Name: cols, dtype: object"
      ]
     },
     "execution_count": 64,
     "metadata": {},
     "output_type": "execute_result"
    }
   ],
   "source": [
    "to_keep = fi[fi.imp>0.005].cols; len(to_keep)\n",
    "to_keep"
   ]
  },
  {
   "cell_type": "code",
   "execution_count": 65,
   "metadata": {},
   "outputs": [
    {
     "data": {
      "text/plain": [
       "RandomForestRegressor(bootstrap=True, criterion='mse', max_depth=None,\n",
       "           max_features='auto', max_leaf_nodes=None,\n",
       "           min_impurity_decrease=0.0, min_impurity_split=None,\n",
       "           min_samples_leaf=1, min_samples_split=2,\n",
       "           min_weight_fraction_leaf=0.0, n_estimators=200, n_jobs=1,\n",
       "           oob_score=True, random_state=0, verbose=0, warm_start=False)"
      ]
     },
     "execution_count": 65,
     "metadata": {},
     "output_type": "execute_result"
    }
   ],
   "source": [
    "X = training_data.copy()\n",
    "y = X['Total_Views']\n",
    "X.drop([\"Game_Date\", \"Total_Views\"], axis = 1, inplace = True)\n",
    "train_X, val_X, train_y, val_y = train_test_split(X, y, random_state = 0, test_size = 0.25)\n",
    "rf = RandomForestRegressor(random_state = 0,  \n",
    "                                         n_estimators=200, min_samples_leaf= 1, oob_score = True)\n",
    "rf.fit(train_X, train_y)"
   ]
  },
  {
   "cell_type": "code",
   "execution_count": 66,
   "metadata": {},
   "outputs": [
    {
     "name": "stdout",
     "output_type": "stream",
     "text": [
      "[12.29494706116512, 32.660521642768842, 0.95307637447183735, 0.65705473467423192, 0.65422520461039124]\n"
     ]
    }
   ],
   "source": [
    "print_score(rf)"
   ]
  },
  {
   "cell_type": "markdown",
   "metadata": {},
   "source": [
    "First some data from https://www.statista.com/statistics/322941/facebook-fans-twitter-followers-of-nba/"
   ]
  },
  {
   "cell_type": "code",
   "execution_count": 67,
   "metadata": {},
   "outputs": [
    {
     "data": {
      "text/plain": [
       "Index(['Season', 'Game_Date', 'Team', 'Location', 'Wins_Entering_Gm',\n",
       "       'Losses_Entering_Gm', 'Team_Minutes', 'Final_Score', 'Lead_Changes',\n",
       "       'Ties', 'Largest_Lead', 'Full_Timeouts', 'Short_Timeouts',\n",
       "       'Qtr_4_Score', 'L2M_Score', 'Team_population', 'Total_games',\n",
       "       'First_game', 'First_week', 'last_5_games', 'ranking', 'nba_followers'],\n",
       "      dtype='object')"
      ]
     },
     "execution_count": 67,
     "metadata": {},
     "output_type": "execute_result"
    }
   ],
   "source": [
    "nba_followers = {'CLE': 3.16, 'NYK': 2.07, 'POR': 1.13,'UTA': 0.79, 'GSW': 5.63, 'SAS': 3.32, 'MIA':  4.68,\n",
    "                     'ORL': 1.59, 'DAL': 0.79, 'IND': 1.11, 'BOS': 3.21, 'BKN': 0.88, 'TOR': 1.5, 'DET': 0.85,\n",
    "                     'MIL': 0.87, 'MEM': 0.92, 'NOP': 0.8, 'DEN': 0.79, 'PHI': 1.46, 'OKC': 2.55, 'PHX': 0.99, \n",
    "                     'SAC': 0.96, 'HOU': 2.54, 'LAL': 7.39, 'ATL': 1.19, 'WAS': 0.85, 'CHI': 4.09, 'LAC': 1.37,\n",
    "                     'CHA': 0.88, 'MIN': 0.85 }\n",
    "\n",
    "\n",
    "game_data['nba_followers'] = game_data['Team'].map(nba_followers)\n",
    "game_data.columns"
   ]
  },
  {
   "cell_type": "code",
   "execution_count": 68,
   "metadata": {},
   "outputs": [],
   "source": [
    "training_data['nba_followers'] = game_data.groupby('Game_ID')['nba_followers'].sum()"
   ]
  },
  {
   "cell_type": "code",
   "execution_count": 69,
   "metadata": {
    "scrolled": true
   },
   "outputs": [
    {
     "data": {
      "text/html": [
       "<div>\n",
       "<style scoped>\n",
       "    .dataframe tbody tr th:only-of-type {\n",
       "        vertical-align: middle;\n",
       "    }\n",
       "\n",
       "    .dataframe tbody tr th {\n",
       "        vertical-align: top;\n",
       "    }\n",
       "\n",
       "    .dataframe thead th {\n",
       "        text-align: right;\n",
       "    }\n",
       "</style>\n",
       "<table border=\"1\" class=\"dataframe\">\n",
       "  <thead>\n",
       "    <tr style=\"text-align: right;\">\n",
       "      <th></th>\n",
       "      <th>Season</th>\n",
       "      <th>Game_Date</th>\n",
       "      <th>day of week</th>\n",
       "      <th>weekend</th>\n",
       "      <th>Total_Views</th>\n",
       "      <th>AllStar</th>\n",
       "      <th>Home_Team_0</th>\n",
       "      <th>Home_Team_1</th>\n",
       "      <th>Home_Team_2</th>\n",
       "      <th>Home_Team_3</th>\n",
       "      <th>...</th>\n",
       "      <th>Away_Team_27</th>\n",
       "      <th>Away_Team_28</th>\n",
       "      <th>Away_Team_29</th>\n",
       "      <th>First_game</th>\n",
       "      <th>First_week</th>\n",
       "      <th>Total_games_home</th>\n",
       "      <th>Total_games_away</th>\n",
       "      <th>home_ranking</th>\n",
       "      <th>away_ranking</th>\n",
       "      <th>nba_followers</th>\n",
       "    </tr>\n",
       "    <tr>\n",
       "      <th>Game_ID</th>\n",
       "      <th></th>\n",
       "      <th></th>\n",
       "      <th></th>\n",
       "      <th></th>\n",
       "      <th></th>\n",
       "      <th></th>\n",
       "      <th></th>\n",
       "      <th></th>\n",
       "      <th></th>\n",
       "      <th></th>\n",
       "      <th></th>\n",
       "      <th></th>\n",
       "      <th></th>\n",
       "      <th></th>\n",
       "      <th></th>\n",
       "      <th></th>\n",
       "      <th></th>\n",
       "      <th></th>\n",
       "      <th></th>\n",
       "      <th></th>\n",
       "      <th></th>\n",
       "    </tr>\n",
       "  </thead>\n",
       "  <tbody>\n",
       "    <tr>\n",
       "      <th>21600001</th>\n",
       "      <td>0</td>\n",
       "      <td>2016-10-25</td>\n",
       "      <td>1</td>\n",
       "      <td>0</td>\n",
       "      <td>57691</td>\n",
       "      <td>4</td>\n",
       "      <td>0</td>\n",
       "      <td>0</td>\n",
       "      <td>0</td>\n",
       "      <td>0</td>\n",
       "      <td>...</td>\n",
       "      <td>0</td>\n",
       "      <td>0</td>\n",
       "      <td>0</td>\n",
       "      <td>1</td>\n",
       "      <td>1</td>\n",
       "      <td>0</td>\n",
       "      <td>1</td>\n",
       "      <td>1</td>\n",
       "      <td>3</td>\n",
       "      <td>5.23</td>\n",
       "    </tr>\n",
       "    <tr>\n",
       "      <th>21600003</th>\n",
       "      <td>0</td>\n",
       "      <td>2016-10-25</td>\n",
       "      <td>1</td>\n",
       "      <td>0</td>\n",
       "      <td>60428</td>\n",
       "      <td>5</td>\n",
       "      <td>0</td>\n",
       "      <td>0</td>\n",
       "      <td>0</td>\n",
       "      <td>0</td>\n",
       "      <td>...</td>\n",
       "      <td>0</td>\n",
       "      <td>0</td>\n",
       "      <td>0</td>\n",
       "      <td>1</td>\n",
       "      <td>1</td>\n",
       "      <td>0</td>\n",
       "      <td>1</td>\n",
       "      <td>1</td>\n",
       "      <td>3</td>\n",
       "      <td>8.95</td>\n",
       "    </tr>\n",
       "    <tr>\n",
       "      <th>21600002</th>\n",
       "      <td>0</td>\n",
       "      <td>2016-10-25</td>\n",
       "      <td>1</td>\n",
       "      <td>0</td>\n",
       "      <td>40740</td>\n",
       "      <td>1</td>\n",
       "      <td>0</td>\n",
       "      <td>0</td>\n",
       "      <td>0</td>\n",
       "      <td>0</td>\n",
       "      <td>...</td>\n",
       "      <td>0</td>\n",
       "      <td>1</td>\n",
       "      <td>0</td>\n",
       "      <td>1</td>\n",
       "      <td>1</td>\n",
       "      <td>0</td>\n",
       "      <td>1</td>\n",
       "      <td>3</td>\n",
       "      <td>1</td>\n",
       "      <td>1.92</td>\n",
       "    </tr>\n",
       "    <tr>\n",
       "      <th>21600006</th>\n",
       "      <td>0</td>\n",
       "      <td>2016-10-26</td>\n",
       "      <td>2</td>\n",
       "      <td>0</td>\n",
       "      <td>23947</td>\n",
       "      <td>1</td>\n",
       "      <td>0</td>\n",
       "      <td>0</td>\n",
       "      <td>1</td>\n",
       "      <td>0</td>\n",
       "      <td>...</td>\n",
       "      <td>0</td>\n",
       "      <td>0</td>\n",
       "      <td>0</td>\n",
       "      <td>1</td>\n",
       "      <td>1</td>\n",
       "      <td>0</td>\n",
       "      <td>1</td>\n",
       "      <td>1</td>\n",
       "      <td>5</td>\n",
       "      <td>4.09</td>\n",
       "    </tr>\n",
       "    <tr>\n",
       "      <th>21600008</th>\n",
       "      <td>0</td>\n",
       "      <td>2016-10-26</td>\n",
       "      <td>2</td>\n",
       "      <td>0</td>\n",
       "      <td>12046</td>\n",
       "      <td>2</td>\n",
       "      <td>0</td>\n",
       "      <td>0</td>\n",
       "      <td>0</td>\n",
       "      <td>0</td>\n",
       "      <td>...</td>\n",
       "      <td>0</td>\n",
       "      <td>0</td>\n",
       "      <td>0</td>\n",
       "      <td>1</td>\n",
       "      <td>1</td>\n",
       "      <td>0</td>\n",
       "      <td>1</td>\n",
       "      <td>2</td>\n",
       "      <td>4</td>\n",
       "      <td>1.75</td>\n",
       "    </tr>\n",
       "  </tbody>\n",
       "</table>\n",
       "<p>5 rows × 73 columns</p>\n",
       "</div>"
      ],
      "text/plain": [
       "          Season  Game_Date  day of week  weekend  Total_Views  AllStar  \\\n",
       "Game_ID                                                                   \n",
       "21600001       0 2016-10-25            1        0        57691        4   \n",
       "21600003       0 2016-10-25            1        0        60428        5   \n",
       "21600002       0 2016-10-25            1        0        40740        1   \n",
       "21600006       0 2016-10-26            2        0        23947        1   \n",
       "21600008       0 2016-10-26            2        0        12046        2   \n",
       "\n",
       "          Home_Team_0  Home_Team_1  Home_Team_2  Home_Team_3      ...        \\\n",
       "Game_ID                                                           ...         \n",
       "21600001            0            0            0            0      ...         \n",
       "21600003            0            0            0            0      ...         \n",
       "21600002            0            0            0            0      ...         \n",
       "21600006            0            0            1            0      ...         \n",
       "21600008            0            0            0            0      ...         \n",
       "\n",
       "          Away_Team_27  Away_Team_28  Away_Team_29  First_game  First_week  \\\n",
       "Game_ID                                                                      \n",
       "21600001             0             0             0           1           1   \n",
       "21600003             0             0             0           1           1   \n",
       "21600002             0             1             0           1           1   \n",
       "21600006             0             0             0           1           1   \n",
       "21600008             0             0             0           1           1   \n",
       "\n",
       "          Total_games_home  Total_games_away  home_ranking  away_ranking  \\\n",
       "Game_ID                                                                    \n",
       "21600001                 0                 1             1             3   \n",
       "21600003                 0                 1             1             3   \n",
       "21600002                 0                 1             3             1   \n",
       "21600006                 0                 1             1             5   \n",
       "21600008                 0                 1             2             4   \n",
       "\n",
       "          nba_followers  \n",
       "Game_ID                  \n",
       "21600001           5.23  \n",
       "21600003           8.95  \n",
       "21600002           1.92  \n",
       "21600006           4.09  \n",
       "21600008           1.75  \n",
       "\n",
       "[5 rows x 73 columns]"
      ]
     },
     "execution_count": 69,
     "metadata": {},
     "output_type": "execute_result"
    }
   ],
   "source": [
    "training_data.head()"
   ]
  },
  {
   "cell_type": "code",
   "execution_count": 70,
   "metadata": {},
   "outputs": [
    {
     "name": "stderr",
     "output_type": "stream",
     "text": [
      "c:\\users\\cseuser\\appdata\\local\\programs\\python\\python36-32\\lib\\site-packages\\seaborn\\axisgrid.py:703: UserWarning: Using the barplot function without specifying `order` is likely to produce an incorrect plot.\n",
      "  warnings.warn(warning)\n"
     ]
    },
    {
     "data": {
      "text/plain": [
       "<seaborn.axisgrid.FacetGrid at 0xaffdb0>"
      ]
     },
     "execution_count": 70,
     "metadata": {},
     "output_type": "execute_result"
    },
    {
     "data": {
      "image/png": "[encoded data removed]",
      "text/plain": [
       "<matplotlib.figure.Figure at 0xaff9f0>"
      ]
     },
     "metadata": {},
     "output_type": "display_data"
    }
   ],
   "source": [
    "g = sns.FacetGrid(training_data)\n",
    "g.map(sns.barplot, 'nba_followers',  'Total_Views')"
   ]
  },
  {
   "cell_type": "code",
   "execution_count": 71,
   "metadata": {},
   "outputs": [
    {
     "data": {
      "text/plain": [
       "RandomForestRegressor(bootstrap=True, criterion='mse', max_depth=None,\n",
       "           max_features='auto', max_leaf_nodes=None,\n",
       "           min_impurity_decrease=0.0, min_impurity_split=None,\n",
       "           min_samples_leaf=1, min_samples_split=2,\n",
       "           min_weight_fraction_leaf=0.0, n_estimators=200, n_jobs=1,\n",
       "           oob_score=True, random_state=0, verbose=0, warm_start=False)"
      ]
     },
     "execution_count": 71,
     "metadata": {},
     "output_type": "execute_result"
    }
   ],
   "source": [
    "X = training_data.copy()\n",
    "y = X['Total_Views']\n",
    "X.drop([\"Game_Date\", \"Total_Views\"], axis = 1, inplace = True)\n",
    "train_X, val_X, train_y, val_y = train_test_split(X, y, random_state = 0, test_size = 0.25)\n",
    "rf = RandomForestRegressor(random_state = 0,  \n",
    "                                         n_estimators=200, min_samples_leaf= 1, oob_score = True)\n",
    "rf.fit(train_X, train_y)"
   ]
  },
  {
   "cell_type": "code",
   "execution_count": 72,
   "metadata": {},
   "outputs": [
    {
     "name": "stdout",
     "output_type": "stream",
     "text": [
      "[12.225204833196678, 32.881998078566582, 0.9562834105158049, 0.67585823829689673, 0.68022668172787482]\n"
     ]
    }
   ],
   "source": [
    "print_score(rf)"
   ]
  },
  {
   "cell_type": "code",
   "execution_count": 73,
   "metadata": {},
   "outputs": [
    {
     "data": {
      "text/html": [
       "<div>\n",
       "<style scoped>\n",
       "    .dataframe tbody tr th:only-of-type {\n",
       "        vertical-align: middle;\n",
       "    }\n",
       "\n",
       "    .dataframe tbody tr th {\n",
       "        vertical-align: top;\n",
       "    }\n",
       "\n",
       "    .dataframe thead th {\n",
       "        text-align: right;\n",
       "    }\n",
       "</style>\n",
       "<table border=\"1\" class=\"dataframe\">\n",
       "  <thead>\n",
       "    <tr style=\"text-align: right;\">\n",
       "      <th></th>\n",
       "      <th>cols</th>\n",
       "      <th>imp</th>\n",
       "    </tr>\n",
       "  </thead>\n",
       "  <tbody>\n",
       "    <tr>\n",
       "      <th>3</th>\n",
       "      <td>AllStar</td>\n",
       "      <td>0.327364</td>\n",
       "    </tr>\n",
       "    <tr>\n",
       "      <th>70</th>\n",
       "      <td>nba_followers</td>\n",
       "      <td>0.237708</td>\n",
       "    </tr>\n",
       "    <tr>\n",
       "      <th>66</th>\n",
       "      <td>Total_games_home</td>\n",
       "      <td>0.169147</td>\n",
       "    </tr>\n",
       "    <tr>\n",
       "      <th>1</th>\n",
       "      <td>day of week</td>\n",
       "      <td>0.026838</td>\n",
       "    </tr>\n",
       "    <tr>\n",
       "      <th>39</th>\n",
       "      <td>Away_Team_5</td>\n",
       "      <td>0.022374</td>\n",
       "    </tr>\n",
       "    <tr>\n",
       "      <th>9</th>\n",
       "      <td>Home_Team_5</td>\n",
       "      <td>0.015667</td>\n",
       "    </tr>\n",
       "    <tr>\n",
       "      <th>68</th>\n",
       "      <td>home_ranking</td>\n",
       "      <td>0.014876</td>\n",
       "    </tr>\n",
       "    <tr>\n",
       "      <th>69</th>\n",
       "      <td>away_ranking</td>\n",
       "      <td>0.014707</td>\n",
       "    </tr>\n",
       "    <tr>\n",
       "      <th>0</th>\n",
       "      <td>Season</td>\n",
       "      <td>0.013662</td>\n",
       "    </tr>\n",
       "    <tr>\n",
       "      <th>26</th>\n",
       "      <td>Home_Team_22</td>\n",
       "      <td>0.013328</td>\n",
       "    </tr>\n",
       "  </tbody>\n",
       "</table>\n",
       "</div>"
      ],
      "text/plain": [
       "                cols       imp\n",
       "3            AllStar  0.327364\n",
       "70     nba_followers  0.237708\n",
       "66  Total_games_home  0.169147\n",
       "1        day of week  0.026838\n",
       "39       Away_Team_5  0.022374\n",
       "9        Home_Team_5  0.015667\n",
       "68      home_ranking  0.014876\n",
       "69      away_ranking  0.014707\n",
       "0             Season  0.013662\n",
       "26      Home_Team_22  0.013328"
      ]
     },
     "execution_count": 73,
     "metadata": {},
     "output_type": "execute_result"
    }
   ],
   "source": [
    "fi = rf_feat_importance(rf, train_X); fi[:10]"
   ]
  },
  {
   "cell_type": "markdown",
   "metadata": {},
   "source": [
    "It didn't really help our model but it nba_followers is the 2nd more important feature..."
   ]
  },
  {
   "cell_type": "code",
   "execution_count": 74,
   "metadata": {},
   "outputs": [
    {
     "name": "stdout",
     "output_type": "stream",
     "text": [
      "[18.572538441995821, 29.656718037013167, 0.91972649385995831, 0.73440225822286187]\n"
     ]
    }
   ],
   "source": [
    "xgboost(training_data)"
   ]
  },
  {
   "cell_type": "markdown",
   "metadata": {},
   "source": [
    "Xgboost with 500 estimators or rounds has a mape of 29.65 which is the best so far. It still seems to overfit a bit however. Next we will try adding player twitter data"
   ]
  },
  {
   "cell_type": "code",
   "execution_count": 75,
   "metadata": {},
   "outputs": [],
   "source": [
    "names = player_data.Name.unique()"
   ]
  },
  {
   "cell_type": "code",
   "execution_count": 76,
   "metadata": {},
   "outputs": [
    {
     "data": {
      "text/plain": [
       "array(['Channing Frye', 'Kevin Love', 'Kyrie Irving', 'Tristan Thompson',\n",
       "       'Iman Shumpert', 'DeAndre Liggins', 'Jordan McRae', 'Kay Felder',\n",
       "       'JR Smith', 'Mike Dunleavy', 'LeBron James', 'Mo Williams',\n",
       "       'James Jones', 'Richard Jefferson', 'Chris Andersen',\n",
       "       'Marshall Plumlee', 'Mindaugas Kuzminskas', 'Maurice Ndour',\n",
       "       'Ron Baker', 'Justin Holiday', 'Kristaps Porzingis', 'Lance Thomas',\n",
       "       'Courtney Lee', 'Brandon Jennings', \"Kyle O'Quinn\",\n",
       "       'Willy Hernangomez', 'Sasha Vujacic', 'Carmelo Anthony',\n",
       "       'Derrick Rose', 'Joakim Noah', 'Maurice Harkless', 'Damian Lillard',\n",
       "       'Al-Farouq Aminu', 'Evan Turner', 'Festus Ezeli', 'CJ McCollum',\n",
       "       'Allen Crabbe', 'Mason Plumlee', 'Meyers Leonard', 'Shabazz Napier',\n",
       "       'Pat Connaughton', 'Ed Davis', 'Tim Quarterman', 'Noah Vonleh',\n",
       "       'Jake Layman', 'Gordon Hayward', 'Alec Burks', 'Raul Neto',\n",
       "       'Joel Bolomboy', 'Shelvin Mack', 'Jeff Withey', 'Rudy Gobert',\n",
       "       'Rodney Hood', 'Joe Johnson', 'George Hill', 'Derrick Favors',\n",
       "       'Boris Diaw', 'Trey Lyles', 'Dante Exum', 'Joe Ingles',\n",
       "       'David West', 'Zaza Pachulia', 'Shaun Livingston', 'JaVale McGee',\n",
       "       'Andre Iguodala', 'Stephen Curry', 'Kevon Looney', 'Klay Thompson',\n",
       "       'Draymond Green', 'Damian Jones', 'Ian Clark', 'Anderson Varejao',\n",
       "       'Patrick McCaw', 'James Michael McAdoo', 'Kevin Durant',\n",
       "       'Kyle Anderson', 'Dejounte Murray', 'Bryn Forbes',\n",
       "       'Nicolas Laprovittola', 'Kawhi Leonard', 'Jonathon Simmons',\n",
       "       'LaMarcus Aldridge', 'Davis Bertans', 'Danny Green',\n",
       "       'Dewayne Dedmon', 'Patty Mills', 'Manu Ginobili', 'David Lee',\n",
       "       'Pau Gasol', 'Tony Parker', 'Chris Bosh', 'Udonis Haslem',\n",
       "       'Josh McRoberts', 'Goran Dragic', 'Wayne Ellington',\n",
       "       'James Johnson', 'Dion Waiters', 'Hassan Whiteside', 'Luke Babbitt',\n",
       "       'Josh Richardson', 'Derrick Williams', 'Justise Winslow',\n",
       "       'Rodney McGruder', 'Willie Reed', 'Tyler Johnson',\n",
       "       'Stephen Zimmerman', 'Mario Hezonja', 'Arinze Onuaku',\n",
       "       'Bismack Biyombo', 'Damjan Rudez', 'D.J. Augustin', 'Serge Ibaka',\n",
       "       'Aaron Gordon', 'Evan Fournier', 'CJ Wilcox', 'Elfrid Payton',\n",
       "       'C.J. Watson', 'Nikola Vucevic', 'Jodie Meeks', 'Jeff Green',\n",
       "       'AJ Hammons', 'Deron Williams', 'J.J. Barea', 'Nicolas Brussino',\n",
       "       'Salah Mejri', 'Seth Curry', 'Dorian Finney-Smith', 'Andrew Bogut',\n",
       "       'Wesley Matthews', 'Dwight Powell', 'Devin Harris', 'Dirk Nowitzki',\n",
       "       'Justin Anderson', 'Harrison Barnes', 'Quincy Acy',\n",
       "       'Kevin Seraphin', 'Jeff Teague', 'Glenn Robinson III',\n",
       "       'Lavoy Allen', 'Paul George', 'Georges Niang', 'Myles Turner',\n",
       "       'Rakeem Christmas', 'Al Jefferson', 'Joe Young', 'Aaron Brooks',\n",
       "       'Rodney Stuckey', 'Thaddeus Young', 'Monta Ellis', 'CJ Miles',\n",
       "       'Jonas Jerebko', 'Avery Bradley', 'Al Horford', 'Amir Johnson',\n",
       "       'Gerald Green', 'Isaiah Thomas', 'Jae Crowder', 'Tyler Zeller',\n",
       "       'Marcus Smart', 'James Young', 'Jaylen Brown', 'Jordan Mickey',\n",
       "       'Kelly Olynyk', 'Demetrius Jackson', 'Terry Rozier', 'Caris LeVert',\n",
       "       'Anthony Bennett', 'Sean Kilpatrick', 'Isaiah Whitehead',\n",
       "       'Chris McCullough', 'Rondae Hollis-Jefferson', 'Joe Harris',\n",
       "       'Justin Hamilton', 'Bojan Bogdanovic', 'Jeremy Lin',\n",
       "       'Greivis Vasquez', 'Trevor Booker', 'Luis Scola', 'Brook Lopez',\n",
       "       'Randy Foye', 'Patrick Patterson', 'Jonas Valanciunas',\n",
       "       'DeMarre Carroll', 'Terrence Ross', 'Cory Joseph', 'DeMar DeRozan',\n",
       "       'Jared Sullinger', 'Kyle Lowry', 'Lucas Nogueira', 'Pascal Siakam',\n",
       "       'Jakob Poeltl', 'Fred VanVleet', 'Norman Powell', 'Delon Wright',\n",
       "       'Bruno Caboclo', 'Reggie Jackson', 'Jon Leuer',\n",
       "       'Kentavious Caldwell-Pope', 'Andre Drummond', 'Reggie Bullock',\n",
       "       'Boban Marjanovic', 'Tobias Harris', 'Aron Baynes',\n",
       "       'Darrun Hilliard', 'Stanley Johnson', 'Henry Ellenson',\n",
       "       'Michael Gbinije', 'Marcus Morris', 'Ish Smith', 'Beno Udrih',\n",
       "       'Jabari Parker', 'Malcolm Brogdon', 'Tony Snell', 'Rashad Vaughn',\n",
       "       'Giannis Antetokounmpo', 'Matthew Dellavedova', 'Khris Middleton',\n",
       "       'Greg Monroe', 'Miles Plumlee', 'Steve Novak', 'Jason Terry',\n",
       "       'Mirza Teletovic', 'John Henson', 'Michael Beasley', 'Thon Maker',\n",
       "       'Cody Zeller', 'Brian Roberts', 'Marvin Williams', 'Jeremy Lamb',\n",
       "       'Michael Kidd-Gilchrist', 'Frank Kaminsky', 'Aaron Harrison',\n",
       "       'Marco Belinelli', 'Christian Wood', 'Treveon Graham',\n",
       "       'Kemba Walker', 'Spencer Hawes', 'Ramon Sessions', 'Roy Hibbert',\n",
       "       'Nicolas Batum', 'Nemanja Bjelica', 'Gorgui Dieng',\n",
       "       'Shabazz Muhammad', 'Cole Aldrich', 'Ricky Rubio', 'Nikola Pekovic',\n",
       "       'Jordan Hill', 'John Lucas III', 'Brandon Rush', 'Adreian Payne',\n",
       "       'Zach LaVine', 'Andrew Wiggins', 'Tyus Jones', 'Karl-Anthony Towns',\n",
       "       'Kris Dunn', 'Troy Williams', 'Deyonta Davis', 'Chandler Parsons',\n",
       "       'Wade Baldwin IV', 'James Ennis III', 'Troy Daniels',\n",
       "       'JaMychal Green', 'Andrew Harrison', 'Brandan Wright', 'Marc Gasol',\n",
       "       'Jarell Martin', 'Vince Carter', 'Zach Randolph', 'Tony Allen',\n",
       "       'Mike Conley', 'Alexis Ajinca', 'Tyreke Evans', 'Dante Cunningham',\n",
       "       'Buddy Hield', 'Omer Asik', 'Anthony Davis', 'Jrue Holiday',\n",
       "       'Cheick Diallo', \"E'Twaun Moore\", 'Langston Galloway',\n",
       "       'Tim Frazier', 'Quincy Pondexter', 'Lance Stephenson',\n",
       "       'Solomon Hill', 'Terrence Jones', 'Juancho Hernangomez',\n",
       "       'Malik Beasley', 'Emmanuel Mudiay', 'Jarnell Stokes',\n",
       "       'Nikola Jokic', 'Jusuf Nurkic', 'Wilson Chandler', 'Jamal Murray',\n",
       "       'Gary Harris', 'Darrell Arthur', 'Mike Miller', 'Jameer Nelson',\n",
       "       'Kenneth Faried', 'Will Barton', 'Danilo Gallinari',\n",
       "       'Sergio Rodriguez', 'Dario Saric', 'T.J. McConnell',\n",
       "       'Hollis Thompson', 'Gerald Henderson', 'Nik Stauskas',\n",
       "       'Robert Covington', 'Joel Embiid', 'Jerami Grant', 'Jerryd Bayless',\n",
       "       'Nerlens Noel', 'Timothe Luwawu-Cabarrot', 'Ben Simmons',\n",
       "       'Jahlil Okafor', 'Richaun Holmes', 'Russell Westbrook',\n",
       "       'Enes Kanter', 'Anthony Morrow', 'Kyle Singler', 'Ersan Ilyasova',\n",
       "       'Nick Collison', 'Steven Adams', 'Victor Oladipo', 'Andre Roberson',\n",
       "       'Alex Abrines', 'Joffrey Lauvergne', 'Cameron Payne',\n",
       "       'Semaj Christon', 'Domantas Sabonis', 'Josh Huestis',\n",
       "       'John Jenkins', 'TJ Warren', 'Brandon Knight', 'Eric Bledsoe',\n",
       "       'PJ Tucker', 'Derrick Jones Jr.', 'Alex Len', 'Tyler Ulis',\n",
       "       'Alan Williams', 'Devin Booker', 'Jared Dudley', 'Marquese Chriss',\n",
       "       'Tyson Chandler', 'Dragan Bender', 'Leandro Barbosa',\n",
       "       'Darren Collison', 'Ty Lawson', 'Georgios Papagiannis',\n",
       "       'Kosta Koufos', 'Malachi Richardson', 'Skal Labissiere',\n",
       "       'Omri Casspi', 'Garrett Temple', 'Anthony Tolliver',\n",
       "       'Willie Cauley-Stein', 'Ben McLemore', 'DeMarcus Cousins',\n",
       "       'Arron Afflalo', 'Rudy Gay', 'Matt Barnes', 'Ryan Anderson',\n",
       "       'Nene Hilario', 'Trevor Ariza', 'Eric Gordon', 'Corey Brewer',\n",
       "       'Kyle Wiltjer', 'Patrick Beverley', 'Bobby Brown', 'Sam Dekker',\n",
       "       'Chinanu Onuaku', 'KJ McDaniels', 'Tyler Ennis', 'Clint Capela',\n",
       "       'James Harden', 'Montrezl Harrell', 'Ivica Zubac',\n",
       "       'Marcelo Huertas', 'Brandon Ingram', 'Timofey Mozgov', 'Nick Young',\n",
       "       'Julius Randle', 'Jordan Clarkson', 'Thomas Robinson',\n",
       "       \"D'Angelo Russell\", 'Larry Nance Jr.', 'Tarik Black',\n",
       "       'Jose Calderon', 'Lou Williams', 'Luol Deng', 'Metta World Peace',\n",
       "       'Malcolm Delaney', 'Tim Hardaway Jr.', 'Taurean Prince',\n",
       "       'Mike Muscala', 'Edy Tavares', \"DeAndre' Bembry\", 'Dennis Schroder',\n",
       "       'Kent Bazemore', 'Thabo Sefolosha', 'Mike Scott', 'Kris Humphries',\n",
       "       'Kyle Korver', 'Paul Millsap', 'Tiago Splitter', 'Dwight Howard',\n",
       "       'Ian Mahinmi', 'Marcin Gortat', 'Jason Smith', 'Bradley Beal',\n",
       "       'Marcus Thornton', 'John Wall', 'Markieff Morris',\n",
       "       'Andrew Nicholson', 'Tomas Satoransky', 'Kelly Oubre Jr.',\n",
       "       'Trey Burke', 'Otto Porter Jr.', 'Danuel House', 'Daniel Ochefu',\n",
       "       'Sheldon Mac', 'Dwyane Wade', 'Rajon Rondo', 'Isaiah Canaan',\n",
       "       'Jimmy Butler', 'Robin Lopez', 'Taj Gibson', 'Nikola Mirotic',\n",
       "       'Paul Zipser', 'Cristiano Felicio', 'Denzel Valentine',\n",
       "       'Jerian Grant', 'Michael Carter-Williams', 'Doug McDermott',\n",
       "       'Bobby Portis', 'Jamal Crawford', 'Chris Paul', 'Raymond Felton',\n",
       "       'Brandon Bass', 'Alan Anderson', 'Paul Pierce', 'JJ Redick',\n",
       "       'Marreese Speights', 'DeAndre Jordan', 'Luc Mbah a Moute',\n",
       "       'Blake Griffin', 'Wesley Johnson', 'Austin Rivers', 'Brice Johnson',\n",
       "       'Diamond Stone', 'RJ Hunter', 'Ryan Kelly', 'Jordan Farmar',\n",
       "       'Archie Goodwin', 'Yogi Ferrell', 'Alonzo Gee', 'Jonathan Gibson',\n",
       "       'Anthony Brown', 'Toney Douglas', 'Donatas Motiejunas',\n",
       "       'Spencer Dinwiddie', 'Reggie Williams', 'Pierre Jackson',\n",
       "       'Chasson Randle', 'Okaro White', 'Gary Neal', 'Joel Anthony',\n",
       "       \"Johnny O'Bryant III\", 'Ronnie Price', 'Lamar Patterson',\n",
       "       'Mike Tobey', 'Ray McCallum', 'Briante Weber',\n",
       "       'Marcus Georges-Hunt', 'Jarrett Jack', 'Axel Toupane',\n",
       "       'Isaiah Taylor', 'Ben Bentil', 'Quinn Cook', 'David Nwaba',\n",
       "       'Norris Cole', 'Justin Harper', 'Shawn Long', 'Jordan Crawford',\n",
       "       'Wayne Selden', 'Manny Harris', 'Jarrod Uthoff', 'Larry Sanders',\n",
       "       'Jarell Eddie', 'Gary Payton II', 'Alex Poythress',\n",
       "       'Patricio Garino', 'Elijah Millsap', 'Dahntay Jones',\n",
       "       'Shane Larkin', 'Guerschon Yabusele', 'Abdel Nader', 'Jayson Tatum',\n",
       "       'Semi Ojeleye', 'Kadeem Allen', 'Jabari Bird', 'Daniel Theis',\n",
       "       'Ante Zizic', 'John Holland', 'Cedi Osman', 'Chris Boucher',\n",
       "       'Jordan Bell', 'Zhou Qi', 'Dwight Buycks', 'Eric Moreland',\n",
       "       'Luis Montero', 'Luke Kennard', 'Dwayne Bacon', 'Mangok Mathiang',\n",
       "       'Malik Monk', 'Marcus Paige', 'Julyan Stone', 'Jacob Wiley',\n",
       "       'Yakuba Ouattara', 'Jarrett Allen', 'Damien Wilkins',\n",
       "       'Edmond Sumner', 'Ike Anigbogu', 'TJ Leaf', 'Matt Williams Jr.',\n",
       "       'Bam Adebayo', 'Derrick Walton Jr.', 'Khem Birch', 'Jamel Artis',\n",
       "       'Jonathan Isaac', 'Wes Iwundu', 'Furkan Korkmaz', 'Jacob Pullen',\n",
       "       'Markelle Fultz', 'Devin Robinson', 'Mike Young', 'Carrick Felix',\n",
       "       'D.J. Wilson', 'Sterling Brown', 'Charles Cooke', 'Frank Jackson',\n",
       "       'Darius Miller', 'Jalen Jones', 'Dillon Brooks', 'Kobi Simmons',\n",
       "       'Ivan Rabb', 'Vincent Hunter', 'Mario Chalmers', 'Josh Magette',\n",
       "       'John Collins', 'Tyler Dorsey', 'Gian Clavell', 'Maxi Kleber',\n",
       "       'Dennis Smith Jr.', 'Johnathan Motley', 'Torrey Craig',\n",
       "       'Monte Morris', 'Tyler Lydon', 'Tony Bradley', \"Royce O'Neale\",\n",
       "       'Donovan Mitchell', 'Nate Wolters', 'Ekpe Udoh', 'Eric Griffin',\n",
       "       'Justin Patton', 'Matt Costello', 'Derrick White', 'Brandon Paul',\n",
       "       'Davon Reed', 'Alec Peters', 'Mike James', 'Josh Jackson',\n",
       "       'Caleb Swanigan', 'Zach Collins', 'Frank Mason', \"De'Aaron Fox\",\n",
       "       'Harry Giles III', 'Jack Cooley', 'Justin Jackson',\n",
       "       'Bogdan Bogdanovic', 'JaKarr Sampson', 'Antonio Blakeney',\n",
       "       'Lauri Markkanen', 'Ryan Arcidiacono', 'Alfonzo McKinnie',\n",
       "       'OG Anunoby', 'Malcolm Miller', 'Lorenzo Brown', 'Damyean Dotson',\n",
       "       'Luke Kornet', 'Frank Ntilikina', 'PJ Dozier', 'Terrance Ferguson',\n",
       "       'Daniel Hamilton', 'Dakari Johnson', 'Jamil Wilson',\n",
       "       'C.J. Williams', 'Sindarius Thornwell', 'Milos Teodosic',\n",
       "       'Jawun Evans', 'Alex Caruso', 'Lonzo Ball', 'Kyle Kuzma',\n",
       "       'Josh Hart', 'Vander Blue', 'Thomas Bryant', 'London Perrantes',\n",
       "       'Isaiah Hicks', 'Josh Smith', 'Tyler Cavanaugh',\n",
       "       'Antonius Cleveland', 'Milton Doyle', 'Kyle Collinsworth',\n",
       "       'Erik McCree', 'Naz Mitrou-Long', 'Tyrone Wallace',\n",
       "       'Xavier Munford', 'Ben Moore', 'Andrew White III', 'Myke Henry',\n",
       "       'Amile Jefferson', 'James Webb III', 'Reggie Hearn', 'Markel Brown',\n",
       "       'Nigel Hayes', 'Larry Drew II', 'Josh Gray', 'Emeka Okafor',\n",
       "       'Trey McKinney-Jones', 'Walter Lemon Jr.', 'Shaquille Harrison',\n",
       "       'Scotty Hopson', 'Jaylen Morris', 'Travis Wear',\n",
       "       'Xavier Rathan-Mayes', 'Rodney Purvis', 'Jameel Warney',\n",
       "       'Damion Lee', 'David Stockton', 'Jaylen Johnson', \"Le'Bryan Nash\",\n",
       "       'Marquis Teague', 'MarShon Brooks', 'Xavier Silas', 'Jeremy Evans',\n",
       "       'Omari Johnson', 'Andre Ingram', 'Kendrick Perkins', 'Aaron Jackson'], dtype=object)"
      ]
     },
     "execution_count": 76,
     "metadata": {},
     "output_type": "execute_result"
    }
   ],
   "source": [
    "names"
   ]
  },
  {
   "cell_type": "code",
   "execution_count": null,
   "metadata": {},
   "outputs": [],
   "source": []
  }
 ],
 "metadata": {
  "kernelspec": {
   "display_name": "Python 3",
   "language": "python",
   "name": "python3"
  },
  "language_info": {
   "codemirror_mode": {
    "name": "ipython",
    "version": 3
   },
   "file_extension": ".py",
   "mimetype": "text/x-python",
   "name": "python",
   "nbconvert_exporter": "python",
   "pygments_lexer": "ipython3",
   "version": "3.6.3"
  }
 },
 "nbformat": 4,
 "nbformat_minor": 2
}
